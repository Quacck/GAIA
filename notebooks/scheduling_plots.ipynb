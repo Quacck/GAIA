{
 "cells": [
  {
   "cell_type": "code",
   "execution_count": 1,
   "metadata": {},
   "outputs": [],
   "source": [
    "import plotly.express as px\n",
    "from datetime import datetime\n",
    "import plotly.graph_objects as go\n",
    "from plotly.subplots import make_subplots\n",
    "import pytz\n",
    "\n",
    "import importlib.util\n",
    "import sys\n",
    "\n",
    "\n",
    "spec = importlib.util.spec_from_file_location(\"carbon\", \"../src/carbon.py\")\n",
    "foo = importlib.util.module_from_spec(spec)\n",
    "sys.modules[\"carbon\"] = foo\n",
    "spec.loader.exec_module(foo)\n",
    "\n",
    "import carbon\n",
    "\n",
    "\n",
    "traces = ['phased'] # , \"pai_200\"\n",
    "\n",
    "waiting_times = [\"48\", \"6x24\", \"4\"]\n",
    "\n",
    "carbon_trace = carbon.get_carbon_model(\"AU-SA\", 17544+7000, extra_columns=False).reindex(0)\n",
    "# carbon_trace = carbon.get_carbon_model(\"DE-hourly-start-july\", 0, extra_columns=False)\n"
   ]
  },
  {
   "cell_type": "code",
   "execution_count": 2,
   "metadata": {},
   "outputs": [],
   "source": [
    "import sys\n",
    "sys.path.append('../src/')\n",
    "\n",
    "from scheduling.suspend_phases_scheduling_policy import SchedulerDebugOptions\n",
    "\n",
    "import scheduling as gaia_sched\n",
    "import carbon\n",
    "import power_consumption_profiles as pcp\n",
    "\n",
    "# scheduler = gaia_sched.SuspendSchedulingDynamicPowerPolicy(None, carbon_trace)\n",
    "# options = SchedulerDebugOptions(\n",
    "#         use_startup=True, \n",
    "#         dynamic_power=True, \n",
    "#         use_progress=True, \n",
    "#         linearize=True,\n",
    "#         timelimit=None,\n",
    "#         scale_time=True,\n",
    "# )\n",
    "# \n",
    "# foo_model = pcp.PeriodicPowerFunction({\n",
    "#     'startup':[{'name': 'startup','duration': 0, 'power': 150}],\n",
    "#     'work':[{'name': 'high', 'power': 200, 'duration': 3600}, {'name': 'low', 'power': 100, 'duration': 3600}]\n",
    "# }, length=3*60*30)\n",
    "# \n",
    "# test_model = pcp.PeriodicPowerFunction({\n",
    "#     'startup':[{'name': 'startup','duration': 0, 'power': 200}],\n",
    "#     'work':[{'name': 'high', 'power': 200, 'duration': 1800}, {'name': 'low', 'power': 100, 'duration': 3600}]\n",
    "# }, length=9600)\n",
    "# \n",
    "# debug_result = scheduler.find_execution_times(carbon_trace, 4*60*60, test_model, debugOptions=options)\n",
    "# real_result = scheduler.find_execution_times(carbon_trace, 4*60*60, test_model)"
   ]
  },
  {
   "cell_type": "code",
   "execution_count": 3,
   "metadata": {},
   "outputs": [
    {
     "name": "stdout",
     "output_type": "stream",
     "text": [
      "scaled deadlines is: 250, spt: 1\n",
      "Set parameter Username\n",
      "Set parameter LogFile to value \"gurobi.log\"\n",
      "Set parameter Threads to value 4\n",
      "Using license file /opt/gurobi1103/gurobi.lic\n",
      "Academic license - for non-commercial use only - expires 2025-08-12\n",
      "\n",
      "Gurobi Optimizer version 11.0.3 build v11.0.3rc0 (linux64 - \"Ubuntu 23.10\")\n",
      "Copyright (c) 2024, Gurobi Optimization, LLC\n",
      "\n",
      "Read LP format model from file /tmp/0b4bdab105e1418ea110f5fc7447b653-pulp.lp\n",
      "Reading time = 0.01 seconds\n",
      "OBJ: 4 rows, 501 columns, 502 nonzeros\n",
      "\n",
      "CPU model: Intel(R) Core(TM) i5-7200U CPU @ 2.50GHz, instruction set [SSE2|AVX|AVX2]\n",
      "Thread count: 2 physical cores, 4 logical processors, using up to 4 threads\n",
      "\n",
      "Optimize a model with 4 rows, 501 columns and 502 nonzeros\n",
      "Model fingerprint: 0x17395340\n",
      "Variable types: 1 continuous, 500 integer (500 binary)\n",
      "Coefficient statistics:\n",
      "  Matrix range     [1e+00, 1e+00]\n",
      "  Objective range  [4e-02, 4e-01]\n",
      "  Bounds range     [1e+00, 1e+00]\n",
      "  RHS range        [5e+00, 1e+02]\n",
      "Found heuristic solution: objective 13.0625900\n",
      "Presolve removed 4 rows and 501 columns\n",
      "Presolve time: 0.02s\n",
      "Presolve: All rows and columns removed\n",
      "\n",
      "Explored 0 nodes (0 simplex iterations) in 0.03 seconds (0.00 work units)\n",
      "Thread count was 1 (of 4 available processors)\n",
      "\n",
      "Solution count 2: 6.03902 13.0626 \n",
      "\n",
      "Optimal solution found (tolerance 1.00e-04)\n",
      "Best objective 6.039020000000e+00, best bound 6.039020000000e+00, gap 0.0000%\n",
      "\n",
      "Wrote result file '/tmp/0b4bdab105e1418ea110f5fc7447b653-pulp.sol'\n",
      "\n",
      "Status: Optimal\n",
      "scaled deadlines is: 250, spt: 1\n",
      "Set parameter Username\n",
      "Set parameter LogFile to value \"gurobi.log\"\n",
      "Set parameter Threads to value 4\n",
      "Using license file /opt/gurobi1103/gurobi.lic\n",
      "Academic license - for non-commercial use only - expires 2025-08-12\n",
      "\n",
      "Gurobi Optimizer version 11.0.3 build v11.0.3rc0 (linux64 - \"Ubuntu 23.10\")\n",
      "Copyright (c) 2024, Gurobi Optimization, LLC\n",
      "\n",
      "Read LP format model from file /tmp/24773bfdd5a0421c94af843de57b29a4-pulp.lp\n",
      "Reading time = 0.01 seconds\n",
      "OBJ: 2225 rows, 1249 columns, 10327 nonzeros\n",
      "\n",
      "CPU model: Intel(R) Core(TM) i5-7200U CPU @ 2.50GHz, instruction set [SSE2|AVX|AVX2]\n",
      "Thread count: 2 physical cores, 4 logical processors, using up to 4 threads\n",
      "\n",
      "Optimize a model with 2225 rows, 1249 columns and 10327 nonzeros\n",
      "Model fingerprint: 0xc6cd801c\n",
      "Variable types: 0 continuous, 1249 integer (750 binary)\n",
      "Coefficient statistics:\n",
      "  Matrix range     [1e+00, 5e+02]\n",
      "  Objective range  [4e-02, 4e-01]\n",
      "  Bounds range     [1e+00, 1e+02]\n",
      "  RHS range        [1e+00, 5e+02]\n",
      "Presolve removed 562 rows and 293 columns\n",
      "Presolve time: 0.07s\n",
      "Presolved: 1663 rows, 956 columns, 8876 nonzeros\n",
      "Variable types: 0 continuous, 956 integer (708 binary)\n",
      "\n",
      "Root relaxation: objective 7.873339e+00, 373 iterations, 0.01 seconds (0.01 work units)\n",
      "\n",
      "    Nodes    |    Current Node    |     Objective Bounds      |     Work\n",
      " Expl Unexpl |  Obj  Depth IntInf | Incumbent    BestBd   Gap | It/Node Time\n",
      "\n",
      "     0     0    7.87334    0  125          -    7.87334      -     -    0s\n",
      "H    0     0                      18.1857800    7.87334  56.7%     -    0s\n",
      "H    0     0                      16.8982700    7.87334  53.4%     -    0s\n",
      "H    0     0                      14.8627300    7.87334  47.0%     -    0s\n",
      "     0     0    8.76129    0  359   14.86273    8.76129  41.1%     -    0s\n",
      "H    0     0                      14.1971000    8.85385  37.6%     -    0s\n",
      "     0     0    8.87487    0  289   14.19710    8.87487  37.5%     -    0s\n",
      "     0     0    8.87487    0  248   14.19710    8.87487  37.5%     -    0s\n",
      "     0     0    8.88608    0  317   14.19710    8.88608  37.4%     -    0s\n",
      "     0     0    8.89268    0  317   14.19710    8.89268  37.4%     -    0s\n",
      "     0     0   10.11587    0  441   14.19710   10.11587  28.7%     -    1s\n",
      "     0     0   10.23269    0  610   14.19710   10.23269  27.9%     -    1s\n",
      "     0     0   10.25808    0  515   14.19710   10.25808  27.7%     -    2s\n",
      "     0     0   10.26138    0  643   14.19710   10.26138  27.7%     -    2s\n",
      "     0     0   10.26376    0  658   14.19710   10.26376  27.7%     -    2s\n",
      "     0     0   10.26400    0  661   14.19710   10.26400  27.7%     -    2s\n",
      "     0     0   10.98362    0  447   14.19710   10.98362  22.6%     -    2s\n",
      "H    0     0                      14.1620100   10.98373  22.4%     -    3s\n",
      "     0     0   11.10698    0  462   14.16201   11.10698  21.6%     -    3s\n",
      "H    0     0                      14.0757400   11.13740  20.9%     -    3s\n",
      "     0     0   11.13740    0  360   14.07574   11.13740  20.9%     -    3s\n",
      "     0     0   11.15329    0  425   14.07574   11.15329  20.8%     -    3s\n",
      "     0     0   11.15974    0  428   14.07574   11.15974  20.7%     -    3s\n",
      "     0     0   11.16221    0  349   14.07574   11.16221  20.7%     -    3s\n",
      "     0     0   11.16278    0  433   14.07574   11.16278  20.7%     -    3s\n",
      "H    0     0                      14.0589900   11.16278  20.6%     -    3s\n",
      "     0     0   11.57440    0  373   14.05899   11.57440  17.7%     -    3s\n",
      "     0     0   11.65222    0  281   14.05899   11.65222  17.1%     -    3s\n",
      "     0     0   11.68652    0  324   14.05899   11.68652  16.9%     -    3s\n",
      "     0     0   11.70226    0  373   14.05899   11.70226  16.8%     -    3s\n",
      "     0     0   11.71151    0  335   14.05899   11.71151  16.7%     -    3s\n",
      "     0     0   11.71710    0  287   14.05899   11.71710  16.7%     -    3s\n",
      "     0     0   11.71949    0  349   14.05899   11.71949  16.6%     -    3s\n",
      "H    0     0                      14.0145900   11.99439  14.4%     -    4s\n",
      "     0     0   11.99439    0  453   14.01459   11.99439  14.4%     -    4s\n",
      "H    0     0                      14.0121000   12.04714  14.0%     -    4s\n",
      "     0     0   12.04714    0  338   14.01210   12.04714  14.0%     -    4s\n",
      "     0     0   12.06419    0  388   14.01210   12.06419  13.9%     -    4s\n",
      "     0     0   12.06757    0  293   14.01210   12.06757  13.9%     -    4s\n",
      "     0     0   12.06919    0  339   14.01210   12.06919  13.9%     -    4s\n",
      "     0     0   12.15767    0  355   14.01210   12.15767  13.2%     -    4s\n",
      "     0     0   12.17470    0  345   14.01210   12.17470  13.1%     -    5s\n",
      "     0     0   12.17772    0  427   14.01210   12.17772  13.1%     -    5s\n",
      "H    0     0                      13.9322300   12.23340  12.2%     -    5s\n",
      "     0     0   12.23340    0  438   13.93223   12.23340  12.2%     -    5s\n",
      "     0     0   12.23885    0  445   13.93223   12.23885  12.2%     -    5s\n",
      "     0     0   12.24074    0  418   13.93223   12.24074  12.1%     -    5s\n",
      "     0     0   12.28965    0  434   13.93223   12.28965  11.8%     -    5s\n",
      "     0     0   12.29244    0  447   13.93223   12.29244  11.8%     -    5s\n",
      "     0     0   12.31475    0  328   13.93223   12.31475  11.6%     -    5s\n",
      "     0     0   12.31723    0  457   13.93223   12.31723  11.6%     -    5s\n",
      "     0     0   12.33647    0  512   13.93223   12.33647  11.5%     -    5s\n",
      "     0     0   12.34923    0  319   13.93223   12.34923  11.4%     -    5s\n",
      "     0     2   12.34925    0  319   13.93223   12.34925  11.4%     -    6s\n",
      "H   75    30                      13.9281300   12.88151  7.51%  48.6    6s\n",
      "*   92    32              20      13.5714800   12.88151  5.08%  41.8    6s\n",
      "\n",
      "Cutting planes:\n",
      "  Gomory: 1\n",
      "  Cover: 56\n",
      "  Implied bound: 127\n",
      "  Clique: 94\n",
      "  MIR: 18\n",
      "  StrongCG: 2\n",
      "  Flow cover: 41\n",
      "  RLT: 171\n",
      "  Relax-and-lift: 249\n",
      "  BQP: 206\n",
      "  PSD: 95\n",
      "\n",
      "Explored 141 nodes (12357 simplex iterations) in 7.00 seconds (2.04 work units)\n",
      "Thread count was 4 (of 4 available processors)\n",
      "\n",
      "Solution count 10: 13.5715 13.9281 13.9322 ... 14.8627\n",
      "\n",
      "Optimal solution found (tolerance 1.00e-04)\n",
      "Best objective 1.357148000000e+01, best bound 1.357148000000e+01, gap 0.0000%\n",
      "\n",
      "Wrote result file '/tmp/24773bfdd5a0421c94af843de57b29a4-pulp.sol'\n",
      "\n",
      "Status: Optimal\n",
      "scaled deadlines is: 250, spt: 1\n",
      "Set parameter Username\n",
      "Set parameter LogFile to value \"gurobi.log\"\n",
      "Set parameter Threads to value 4\n",
      "Using license file /opt/gurobi1103/gurobi.lic\n",
      "Academic license - for non-commercial use only - expires 2025-08-12\n",
      "\n",
      "Gurobi Optimizer version 11.0.3 build v11.0.3rc0 (linux64 - \"Ubuntu 23.10\")\n",
      "Copyright (c) 2024, Gurobi Optimization, LLC\n",
      "\n",
      "Read LP format model from file /tmp/d15f2dbd6bfd4eec96ea9b6763adc305-pulp.lp\n",
      "Reading time = 0.03 seconds\n",
      "OBJ: 10225 rows, 4250 columns, 28327 nonzeros\n",
      "\n",
      "CPU model: Intel(R) Core(TM) i5-7200U CPU @ 2.50GHz, instruction set [SSE2|AVX|AVX2]\n",
      "Thread count: 2 physical cores, 4 logical processors, using up to 4 threads\n",
      "\n",
      "Optimize a model with 10225 rows, 4250 columns and 28327 nonzeros\n",
      "Model fingerprint: 0x0cb6d96f\n",
      "Variable types: 0 continuous, 4250 integer (3750 binary)\n",
      "Coefficient statistics:\n",
      "  Matrix range     [1e+00, 5e+02]\n",
      "  Objective range  [2e+00, 1e+02]\n",
      "  Bounds range     [1e+00, 1e+02]\n",
      "  RHS range        [1e+00, 6e+02]\n",
      "Presolve removed 5383 rows and 951 columns\n",
      "Presolve time: 0.12s\n",
      "Presolved: 4842 rows, 3299 columns, 16767 nonzeros\n",
      "Variable types: 0 continuous, 3299 integer (2859 binary)\n",
      "Found heuristic solution: objective 3527.5526000\n",
      "\n",
      "Root relaxation: objective 1.697311e+01, 3231 iterations, 0.37 seconds (0.13 work units)\n",
      "\n",
      "    Nodes    |    Current Node    |     Objective Bounds      |     Work\n",
      " Expl Unexpl |  Obj  Depth IntInf | Incumbent    BestBd   Gap | It/Node Time\n",
      "\n",
      "     0     0   16.97311    0  681 3527.55260   16.97311   100%     -    1s\n",
      "     0     0  122.58128    0 1109 3527.55260  122.58128  96.5%     -    8s\n",
      "     0     0  201.33407    0 1087 3527.55260  201.33407  94.3%     -    8s\n",
      "     0     0  217.66778    0 1105 3527.55260  217.66778  93.8%     -   11s\n",
      "     0     0  217.66778    0  754 3527.55260  217.66778  93.8%     -   13s\n",
      "H    0     0                    3412.0301000  217.66778  93.6%     -   14s\n",
      "     0     0  396.27001    0 1330 3412.03010  396.27001  88.4%     -   21s\n",
      "     0     0  397.72381    0 1406 3412.03010  397.72381  88.3%     -   21s\n",
      "H    0     0                    3012.3954000  398.27788  86.8%     -   22s\n",
      "H    0     0                    2921.0719000  398.27788  86.4%     -   23s\n",
      "     0     0  524.00696    0 1438 2921.07190  524.00696  82.1%     -   24s\n",
      "     0     0  524.16380    0 1439 2921.07190  524.16380  82.1%     -   24s\n",
      "     0     0  526.58086    0 1426 2921.07190  526.58086  82.0%     -   25s\n",
      "     0     0  527.55877    0 1428 2921.07190  527.55877  81.9%     -   25s\n",
      "     0     0  527.55877    0 1429 2921.07190  527.55877  81.9%     -   25s\n",
      "     0     0  988.95969    0 1141 2921.07190  988.95969  66.1%     -   30s\n",
      "     0     0 1014.70844    0 1149 2921.07190 1014.70844  65.3%     -   31s\n",
      "     0     0 1021.95479    0 1214 2921.07190 1021.95479  65.0%     -   32s\n",
      "     0     0 1023.16814    0 1211 2921.07190 1023.16814  65.0%     -   32s\n",
      "     0     0 1024.23481    0 1214 2921.07190 1024.23481  64.9%     -   32s\n",
      "     0     0 1024.39559    0 1208 2921.07190 1024.39559  64.9%     -   32s\n",
      "     0     0 1183.98569    0 1467 2921.07190 1183.98569  59.5%     -   36s\n",
      "     0     0 1196.55650    0 1752 2921.07190 1196.55650  59.0%     -   38s\n",
      "     0     0 1198.38438    0 1891 2921.07190 1198.38438  59.0%     -   38s\n",
      "     0     0 1198.82787    0 1940 2921.07190 1198.82787  59.0%     -   39s\n",
      "H    0     0                    2564.4006000 1275.14234  50.3%     -   43s\n",
      "     0     0 1275.14234    0 1339 2564.40060 1275.14234  50.3%     -   43s\n",
      "H    0     0                    2538.8908000 1290.40698  49.2%     -   44s\n",
      "     0     0 1290.40698    0 1478 2538.89080 1290.40698  49.2%     -   44s\n",
      "     0     0 1292.57806    0 1493 2538.89080 1292.57806  49.1%     -   45s\n",
      "     0     0 1292.73741    0 1497 2538.89080 1292.73741  49.1%     -   45s\n",
      "H    0     0                    2482.2448000 1321.17792  46.8%     -   46s\n",
      "     0     0 1321.17792    0 1522 2482.24480 1321.17792  46.8%     -   46s\n",
      "H    0     0                    2469.8527000 1328.82199  46.2%     -   48s\n",
      "     0     0 1328.82199    0 1624 2469.85270 1328.82199  46.2%     -   48s\n",
      "H    0     0                    2359.3509000 1331.29543  43.6%     -   48s\n",
      "     0     0 1331.29543    0 1639 2359.35090 1331.29543  43.6%     -   48s\n",
      "     0     0 1331.62677    0 1658 2359.35090 1331.62677  43.6%     -   48s\n",
      "     0     0 1340.71391    0 1449 2359.35090 1340.71391  43.2%     -   50s\n",
      "     0     0 1343.10470    0 1476 2359.35090 1343.10470  43.1%     -   50s\n",
      "     0     0 1343.54796    0 1482 2359.35090 1343.54796  43.1%     -   50s\n",
      "     0     0 1350.23102    0 1624 2359.35090 1350.23102  42.8%     -   52s\n",
      "     0     0 1351.97550    0 1840 2359.35090 1351.97550  42.7%     -   54s\n",
      "     0     0 1352.16561    0 1825 2359.35090 1352.16561  42.7%     -   54s\n",
      "H    0     0                    1956.8026000 1352.16561  30.9%     -   54s\n",
      "     0     0 1355.58454    0 1863 1956.80260 1355.58454  30.7%     -   55s\n",
      "H    0     0                    1954.6258000 1355.58454  30.6%     -   66s\n",
      "     0     0 1355.67271    0 1860 1954.62580 1355.67271  30.6%     -   66s\n",
      "     0     2 1355.71606    0 1860 1954.62580 1355.71606  30.6%     -   68s\n",
      "     7    12 1452.66683    3 1595 1954.62580 1425.01689  27.1%   455   70s\n",
      "    40    47 1479.63637    8  951 1954.62580 1459.11102  25.4%   331   75s\n",
      "H   61    61                    1639.0532000 1459.11102  11.0%   260   76s\n",
      "H   91    71                    1600.2962000 1459.11102  8.82%   211   78s\n",
      "   148    74     cutoff    7      1600.29620 1472.58658  7.98%   158   80s\n",
      "   232    77 1550.43839   10  297 1600.29620 1504.82442  5.97%   148   85s\n",
      "   316    43 1577.46491    9  287 1600.29620 1527.95105  4.52%   144   90s\n",
      "*  349    37              18    1599.7037000 1534.57857  4.07%   143   91s\n",
      "\n",
      "Cutting planes:\n",
      "  Learned: 222\n",
      "  Gomory: 4\n",
      "  Cover: 799\n",
      "  Implied bound: 747\n",
      "  Clique: 607\n",
      "  MIR: 379\n",
      "  StrongCG: 3\n",
      "  Flow cover: 31\n",
      "  GUB cover: 5\n",
      "  Zero half: 12\n",
      "  Mod-K: 1\n",
      "  Network: 11\n",
      "  RLT: 287\n",
      "  Relax-and-lift: 338\n",
      "  BQP: 47\n",
      "  PSD: 1\n",
      "\n",
      "Explored 408 nodes (88092 simplex iterations) in 93.07 seconds (23.06 work units)\n",
      "Thread count was 4 (of 4 available processors)\n",
      "\n",
      "Solution count 10: 1599.7 1600.3 1639.05 ... 2564.4\n",
      "\n",
      "Optimal solution found (tolerance 1.00e-04)\n",
      "Best objective 1.599703700000e+03, best bound 1.599703700000e+03, gap 0.0000%\n",
      "\n",
      "Wrote result file '/tmp/d15f2dbd6bfd4eec96ea9b6763adc305-pulp.sol'\n",
      "\n",
      "Status: Optimal\n"
     ]
    }
   ],
   "source": [
    "# use this cell to create the plot results\n",
    "shared_deadline = 250\n",
    "\n",
    "scheduler = gaia_sched.SuspendSchedulingDynamicPowerPolicy(None, carbon_trace)\n",
    "options_1 = SchedulerDebugOptions(\n",
    "        use_startup=False, \n",
    "        dynamic_power=False, \n",
    "        use_progress=False, \n",
    "        linearize=False,\n",
    "        timelimit=None,\n",
    "        scale_time=False,\n",
    ")\n",
    "\n",
    "job_no_startup = pcp.PowerFunction({\n",
    "    'startup': [ ],\n",
    "    'work': [\n",
    "      {'name': 'Constant', 'duration': 100, 'power': 100}, \n",
    "    ]\n",
    "})\n",
    "\n",
    "result_1 = scheduler.find_execution_times(carbon_trace, shared_deadline, job_no_startup, options_1)\n",
    "\n",
    "# options_2 = SchedulerDebugOptions(\n",
    "#         use_startup=True, \n",
    "#         dynamic_power=False, \n",
    "#         use_progress=False, \n",
    "#         linearize=False,\n",
    "#         timelimit=None,\n",
    "#         scale_time=False,\n",
    "# )\n",
    "\n",
    "constant_job = pcp.PowerFunction({\n",
    "    'startup': [\n",
    "        {'name': 'Constant', 'duration': 20, 'power': 100}\n",
    "    ],\n",
    "    'work': [\n",
    "        {'name': 'Constant', 'duration': 100, 'power': 100}, \n",
    "    ]\n",
    "})\n",
    "\n",
    "\n",
    "# There was some bug when instrumenting the scheduler,\n",
    "# it worked earlier I swear\n",
    "# result_2 = scheduler.find_execution_times(carbon_trace, shared_deadline, constant_job, options_2)\n",
    "\n",
    "options_3 = SchedulerDebugOptions(\n",
    "        use_startup=True, \n",
    "        dynamic_power=False, \n",
    "        use_progress=True, \n",
    "        linearize=False,\n",
    "        timelimit=None,\n",
    "        scale_time=False,\n",
    ")\n",
    "\n",
    "\n",
    "job = pcp.PowerFunction({\n",
    "    'startup': [\n",
    "        {'name': 'Start Python', 'duration': 10, 'power': 50},\n",
    "        {'name': 'Download Data', 'duration': 10, 'power': 70},\n",
    "    ],\n",
    "    'work': [\n",
    "      {'name': 'High', 'duration': 50, 'power': 230.0}, \n",
    "      {'name': 'Low', 'duration': 50, 'power': 100}, \n",
    "    ]\n",
    "})\n",
    "\n",
    "result_3 = scheduler.find_execution_times(carbon_trace, shared_deadline, constant_job, options_3)\n",
    "\n",
    "options_4 = SchedulerDebugOptions(\n",
    "        use_startup=True, \n",
    "        dynamic_power=True, \n",
    "        use_progress=True, \n",
    "        linearize=True,\n",
    "        timelimit=None,\n",
    "        scale_time=False,\n",
    ")\n",
    "\n",
    "result_4 = scheduler.find_execution_times(carbon_trace, shared_deadline, job, options_4)"
   ]
  },
  {
   "cell_type": "code",
   "execution_count": 10,
   "metadata": {},
   "outputs": [
    {
     "data": {
      "application/vnd.plotly.v1+json": {
       "config": {
        "plotlyServerURL": "https://plot.ly"
       },
       "data": [
        {
         "line": {
          "color": "black",
          "width": 2
         },
         "mode": "lines",
         "showlegend": false,
         "type": "scatter",
         "x": [
          0,
          1,
          2,
          3,
          4,
          5,
          6,
          7,
          8,
          9,
          10,
          11,
          12,
          13,
          14,
          15,
          16,
          17,
          18,
          19,
          20,
          21,
          22,
          23,
          24,
          25,
          26,
          27,
          28,
          29,
          30,
          31,
          32,
          33,
          34,
          35,
          36,
          37,
          38,
          39,
          40,
          41,
          42,
          43,
          44,
          45,
          46,
          47,
          48,
          49,
          50,
          51,
          52,
          53,
          54,
          55,
          56,
          57,
          58,
          59,
          60,
          61,
          62,
          63,
          64,
          65,
          66,
          67,
          68,
          69,
          70,
          71,
          72,
          73,
          74,
          75,
          76,
          77,
          78,
          79,
          80,
          81,
          82,
          83,
          84,
          85,
          86,
          87,
          88,
          89,
          90,
          91,
          92,
          93,
          94,
          95,
          96,
          97,
          98,
          99,
          100,
          101,
          102,
          103,
          104,
          105,
          106,
          107,
          108,
          109,
          110,
          111,
          112,
          113,
          114,
          115,
          116,
          117,
          118,
          119,
          120,
          121,
          122,
          123,
          124,
          125,
          126,
          127,
          128,
          129,
          130,
          131,
          132,
          133,
          134,
          135,
          136,
          137,
          138,
          139,
          140,
          141,
          142,
          143,
          144,
          145,
          146,
          147,
          148,
          149,
          150,
          151,
          152,
          153,
          154,
          155,
          156,
          157,
          158,
          159,
          160,
          161,
          162,
          163,
          164,
          165,
          166,
          167,
          168,
          169,
          170,
          171,
          172,
          173,
          174,
          175,
          176,
          177,
          178,
          179,
          180,
          181,
          182,
          183,
          184,
          185,
          186,
          187,
          188,
          189,
          190,
          191,
          192,
          193,
          194,
          195,
          196,
          197,
          198,
          199,
          200,
          201,
          202,
          203,
          204,
          205,
          206,
          207,
          208,
          209,
          210,
          211,
          212,
          213,
          214,
          215,
          216,
          217,
          218,
          219,
          220,
          221,
          222,
          223,
          224,
          225,
          226,
          227,
          228,
          229,
          230,
          231,
          232,
          233,
          234,
          235,
          236,
          237,
          238,
          239,
          240,
          241,
          242,
          243,
          244,
          245,
          246,
          247,
          248,
          249
         ],
         "y": [
          0.09614,
          0.09913,
          0.10237,
          0.10311,
          0.11239,
          0.1098,
          0.10331,
          0.06952,
          0.05609,
          0.06142,
          0.06537000000000001,
          0.06595000000000001,
          0.08854000000000001,
          0.12608,
          0.1497,
          0.17441,
          0.23703,
          0.2581,
          0.24687,
          0.22455,
          0.18707,
          0.20144,
          0.26312,
          0.25335,
          0.26135,
          0.2737,
          0.32937,
          0.38977,
          0.41195,
          0.34088,
          0.25821,
          0.19244,
          0.15956,
          0.13682,
          0.12196,
          0.10901000000000001,
          0.10472,
          0.10595,
          0.12057999999999999,
          0.15512,
          0.26556,
          0.30482,
          0.27581,
          0.26202,
          0.26831,
          0.30912,
          0.36743000000000003,
          0.3599,
          0.39882999999999996,
          0.38833999999999996,
          0.39274000000000003,
          0.41729,
          0.41527,
          0.35712,
          0.2554,
          0.26245999999999997,
          0.18996000000000002,
          0.13557,
          0.12445,
          0.13211,
          0.14385,
          0.15834,
          0.16756000000000001,
          0.16838,
          0.18821000000000002,
          0.17243,
          0.15127000000000002,
          0.16136,
          0.16418000000000002,
          0.17178,
          0.18122,
          0.16984,
          0.16194999999999998,
          0.14683000000000002,
          0.14973,
          0.1638,
          0.16443000000000002,
          0.16032,
          0.10025,
          0.10065,
          0.1179,
          0.09206,
          0.07697,
          0.10118,
          0.09731000000000001,
          0.10809999999999999,
          0.15255000000000002,
          0.192,
          0.21794,
          0.18255000000000002,
          0.13383,
          0.10402,
          0.08979999999999999,
          0.08062000000000001,
          0.07978,
          0.08471,
          0.07579999999999999,
          0.07732,
          0.08188,
          0.1033,
          0.13712,
          0.13616,
          0.07866,
          0.05189,
          0.05347,
          0.05305,
          0.05223,
          0.049409999999999996,
          0.046799999999999994,
          0.05983,
          0.08463,
          0.13605,
          0.18647999999999998,
          0.20777,
          0.2084,
          0.19390000000000002,
          0.17522,
          0.15641999999999998,
          0.12582,
          0.11761,
          0.10803,
          0.10267,
          0.11938,
          0.17754,
          0.28026999999999996,
          0.2475,
          0.14474,
          0.11142,
          0.10976000000000001,
          0.09698000000000001,
          0.07737000000000001,
          0.07553,
          0.07664,
          0.06776,
          0.10016,
          0.18600999999999998,
          0.26899,
          0.33171,
          0.33535000000000004,
          0.32683,
          0.3579,
          0.38039,
          0.36033,
          0.32377999999999996,
          0.30913,
          0.25562,
          0.2515,
          0.32282,
          0.34422,
          0.26673,
          0.2211,
          0.1679,
          0.11272,
          0.08409,
          0.06835,
          0.06675,
          0.06397,
          0.06477,
          0.07124,
          0.07186,
          0.09581999999999999,
          0.12286,
          0.12012,
          0.09972,
          0.07795999999999999,
          0.07740999999999999,
          0.07503,
          0.0358,
          0.03726,
          0.038299999999999994,
          0.039490000000000004,
          0.03661,
          0.03667,
          0.03961,
          0.041229999999999996,
          0.03943,
          0.04004,
          0.0427,
          0.0432,
          0.04518,
          0.048,
          0.04725,
          0.048909999999999995,
          0.045899999999999996,
          0.06007,
          0.06412999999999999,
          0.05441,
          0.039259999999999996,
          0.04217,
          0.04621,
          0.04352,
          0.03849,
          0.03764,
          0.0375,
          0.03731,
          0.046740000000000004,
          0.04854,
          0.05439,
          0.055920000000000004,
          0.0572,
          0.05894,
          0.056530000000000004,
          0.05941,
          0.059,
          0.06039,
          0.05995,
          0.05645,
          0.04813,
          0.09411,
          0.14878,
          0.1799,
          0.20373,
          0.20343,
          0.15547999999999998,
          0.16884,
          0.2086,
          0.19555,
          0.18122,
          0.21367,
          0.25677,
          0.26327,
          0.18863999999999997,
          0.13243000000000002,
          0.10325,
          0.09620000000000001,
          0.07468999999999999,
          0.07289,
          0.07456,
          0.07199,
          0.07158,
          0.08103,
          0.14123,
          0.29219,
          0.40023000000000003,
          0.36484,
          0.29497,
          0.24355000000000002,
          0.18597999999999998,
          0.15546000000000001,
          0.12287999999999999,
          0.09215999999999999,
          0.04523,
          0.0422,
          0.04188,
          0.04186,
          0.04284,
          0.04308,
          0.04818,
          0.04696,
          0.04623
         ]
        },
        {
         "hovertemplate": "color=Work<br>x=%{x}<br>y=%{y}<extra></extra>",
         "legendgroup": "Work",
         "marker": {
          "color": "red",
          "symbol": "circle"
         },
         "mode": "markers",
         "name": "Work",
         "orientation": "v",
         "showlegend": true,
         "type": "scatter",
         "x": [
          0,
          7,
          8,
          9,
          10,
          11,
          12,
          81,
          82,
          92,
          93,
          94,
          95,
          96,
          97,
          98,
          102,
          103,
          104,
          105,
          106,
          107,
          108,
          109,
          110,
          129,
          130,
          131,
          132,
          133,
          153,
          154,
          155,
          156,
          157,
          158,
          159,
          160,
          164,
          165,
          166,
          167,
          168,
          169,
          170,
          171,
          172,
          173,
          174,
          175,
          176,
          177,
          178,
          179,
          180,
          181,
          182,
          183,
          184,
          185,
          186,
          187,
          188,
          189,
          190,
          191,
          192,
          193,
          194,
          195,
          196,
          197,
          198,
          199,
          200,
          201,
          202,
          203,
          204,
          205,
          206,
          207,
          208,
          224,
          225,
          226,
          227,
          228,
          229,
          230,
          240,
          241,
          242,
          243,
          244,
          245,
          246,
          247,
          248,
          249
         ],
         "xaxis": "x",
         "y": [
          0.09614,
          0.06952,
          0.05609,
          0.06142,
          0.06537000000000001,
          0.06595000000000001,
          0.08854000000000001,
          0.09206,
          0.07697,
          0.08979999999999999,
          0.08062000000000001,
          0.07978,
          0.08471,
          0.07579999999999999,
          0.07732,
          0.08188,
          0.07866,
          0.05189,
          0.05347,
          0.05305,
          0.05223,
          0.049409999999999996,
          0.046799999999999994,
          0.05983,
          0.08463,
          0.09698000000000001,
          0.07737000000000001,
          0.07553,
          0.07664,
          0.06776,
          0.08409,
          0.06835,
          0.06675,
          0.06397,
          0.06477,
          0.07124,
          0.07186,
          0.09581999999999999,
          0.07795999999999999,
          0.07740999999999999,
          0.07503,
          0.0358,
          0.03726,
          0.038299999999999994,
          0.039490000000000004,
          0.03661,
          0.03667,
          0.03961,
          0.041229999999999996,
          0.03943,
          0.04004,
          0.0427,
          0.0432,
          0.04518,
          0.048,
          0.04725,
          0.048909999999999995,
          0.045899999999999996,
          0.06007,
          0.06412999999999999,
          0.05441,
          0.039259999999999996,
          0.04217,
          0.04621,
          0.04352,
          0.03849,
          0.03764,
          0.0375,
          0.03731,
          0.046740000000000004,
          0.04854,
          0.05439,
          0.055920000000000004,
          0.0572,
          0.05894,
          0.056530000000000004,
          0.05941,
          0.059,
          0.06039,
          0.05995,
          0.05645,
          0.04813,
          0.09411,
          0.09620000000000001,
          0.07468999999999999,
          0.07289,
          0.07456,
          0.07199,
          0.07158,
          0.08103,
          0.09215999999999999,
          0.04523,
          0.0422,
          0.04188,
          0.04186,
          0.04284,
          0.04308,
          0.04818,
          0.04696,
          0.04623
         ],
         "yaxis": "y"
        },
        {
         "hovertemplate": "color=Idle<br>x=%{x}<br>y=%{y}<extra></extra>",
         "legendgroup": "Idle",
         "marker": {
          "color": "black",
          "symbol": "circle"
         },
         "mode": "markers",
         "name": "Idle",
         "orientation": "v",
         "showlegend": true,
         "type": "scatter",
         "x": [
          1,
          2,
          3,
          4,
          5,
          6,
          13,
          14,
          15,
          16,
          17,
          18,
          19,
          20,
          21,
          22,
          23,
          24,
          25,
          26,
          27,
          28,
          29,
          30,
          31,
          32,
          33,
          34,
          35,
          36,
          37,
          38,
          39,
          40,
          41,
          42,
          43,
          44,
          45,
          46,
          47,
          48,
          49,
          50,
          51,
          52,
          53,
          54,
          55,
          56,
          57,
          58,
          59,
          60,
          61,
          62,
          63,
          64,
          65,
          66,
          67,
          68,
          69,
          70,
          71,
          72,
          73,
          74,
          75,
          76,
          77,
          78,
          79,
          80,
          83,
          84,
          85,
          86,
          87,
          88,
          89,
          90,
          91,
          99,
          100,
          101,
          111,
          112,
          113,
          114,
          115,
          116,
          117,
          118,
          119,
          120,
          121,
          122,
          123,
          124,
          125,
          126,
          127,
          128,
          134,
          135,
          136,
          137,
          138,
          139,
          140,
          141,
          142,
          143,
          144,
          145,
          146,
          147,
          148,
          149,
          150,
          151,
          152,
          161,
          162,
          163,
          209,
          210,
          211,
          212,
          213,
          214,
          215,
          216,
          217,
          218,
          219,
          220,
          221,
          222,
          223,
          231,
          232,
          233,
          234,
          235,
          236,
          237,
          238,
          239
         ],
         "xaxis": "x",
         "y": [
          0.09913,
          0.10237,
          0.10311,
          0.11239,
          0.1098,
          0.10331,
          0.12608,
          0.1497,
          0.17441,
          0.23703,
          0.2581,
          0.24687,
          0.22455,
          0.18707,
          0.20144,
          0.26312,
          0.25335,
          0.26135,
          0.2737,
          0.32937,
          0.38977,
          0.41195,
          0.34088,
          0.25821,
          0.19244,
          0.15956,
          0.13682,
          0.12196,
          0.10901000000000001,
          0.10472,
          0.10595,
          0.12057999999999999,
          0.15512,
          0.26556,
          0.30482,
          0.27581,
          0.26202,
          0.26831,
          0.30912,
          0.36743000000000003,
          0.3599,
          0.39882999999999996,
          0.38833999999999996,
          0.39274000000000003,
          0.41729,
          0.41527,
          0.35712,
          0.2554,
          0.26245999999999997,
          0.18996000000000002,
          0.13557,
          0.12445,
          0.13211,
          0.14385,
          0.15834,
          0.16756000000000001,
          0.16838,
          0.18821000000000002,
          0.17243,
          0.15127000000000002,
          0.16136,
          0.16418000000000002,
          0.17178,
          0.18122,
          0.16984,
          0.16194999999999998,
          0.14683000000000002,
          0.14973,
          0.1638,
          0.16443000000000002,
          0.16032,
          0.10025,
          0.10065,
          0.1179,
          0.10118,
          0.09731000000000001,
          0.10809999999999999,
          0.15255000000000002,
          0.192,
          0.21794,
          0.18255000000000002,
          0.13383,
          0.10402,
          0.1033,
          0.13712,
          0.13616,
          0.13605,
          0.18647999999999998,
          0.20777,
          0.2084,
          0.19390000000000002,
          0.17522,
          0.15641999999999998,
          0.12582,
          0.11761,
          0.10803,
          0.10267,
          0.11938,
          0.17754,
          0.28026999999999996,
          0.2475,
          0.14474,
          0.11142,
          0.10976000000000001,
          0.10016,
          0.18600999999999998,
          0.26899,
          0.33171,
          0.33535000000000004,
          0.32683,
          0.3579,
          0.38039,
          0.36033,
          0.32377999999999996,
          0.30913,
          0.25562,
          0.2515,
          0.32282,
          0.34422,
          0.26673,
          0.2211,
          0.1679,
          0.11272,
          0.12286,
          0.12012,
          0.09972,
          0.14878,
          0.1799,
          0.20373,
          0.20343,
          0.15547999999999998,
          0.16884,
          0.2086,
          0.19555,
          0.18122,
          0.21367,
          0.25677,
          0.26327,
          0.18863999999999997,
          0.13243000000000002,
          0.10325,
          0.14123,
          0.29219,
          0.40023000000000003,
          0.36484,
          0.29497,
          0.24355000000000002,
          0.18597999999999998,
          0.15546000000000001,
          0.12287999999999999
         ],
         "yaxis": "y"
        }
       ],
       "layout": {
        "height": 250,
        "legend": {
         "x": 0.01,
         "xanchor": "left",
         "y": 0.97,
         "yanchor": "top"
        },
        "margin": {
         "b": 10,
         "l": 10,
         "r": 10,
         "t": 10
        },
        "template": {
         "data": {
          "bar": [
           {
            "error_x": {
             "color": "#2a3f5f"
            },
            "error_y": {
             "color": "#2a3f5f"
            },
            "marker": {
             "line": {
              "color": "#E5ECF6",
              "width": 0.5
             },
             "pattern": {
              "fillmode": "overlay",
              "size": 10,
              "solidity": 0.2
             }
            },
            "type": "bar"
           }
          ],
          "barpolar": [
           {
            "marker": {
             "line": {
              "color": "#E5ECF6",
              "width": 0.5
             },
             "pattern": {
              "fillmode": "overlay",
              "size": 10,
              "solidity": 0.2
             }
            },
            "type": "barpolar"
           }
          ],
          "carpet": [
           {
            "aaxis": {
             "endlinecolor": "#2a3f5f",
             "gridcolor": "white",
             "linecolor": "white",
             "minorgridcolor": "white",
             "startlinecolor": "#2a3f5f"
            },
            "baxis": {
             "endlinecolor": "#2a3f5f",
             "gridcolor": "white",
             "linecolor": "white",
             "minorgridcolor": "white",
             "startlinecolor": "#2a3f5f"
            },
            "type": "carpet"
           }
          ],
          "choropleth": [
           {
            "colorbar": {
             "outlinewidth": 0,
             "ticks": ""
            },
            "type": "choropleth"
           }
          ],
          "contour": [
           {
            "colorbar": {
             "outlinewidth": 0,
             "ticks": ""
            },
            "colorscale": [
             [
              0,
              "#0d0887"
             ],
             [
              0.1111111111111111,
              "#46039f"
             ],
             [
              0.2222222222222222,
              "#7201a8"
             ],
             [
              0.3333333333333333,
              "#9c179e"
             ],
             [
              0.4444444444444444,
              "#bd3786"
             ],
             [
              0.5555555555555556,
              "#d8576b"
             ],
             [
              0.6666666666666666,
              "#ed7953"
             ],
             [
              0.7777777777777778,
              "#fb9f3a"
             ],
             [
              0.8888888888888888,
              "#fdca26"
             ],
             [
              1,
              "#f0f921"
             ]
            ],
            "type": "contour"
           }
          ],
          "contourcarpet": [
           {
            "colorbar": {
             "outlinewidth": 0,
             "ticks": ""
            },
            "type": "contourcarpet"
           }
          ],
          "heatmap": [
           {
            "colorbar": {
             "outlinewidth": 0,
             "ticks": ""
            },
            "colorscale": [
             [
              0,
              "#0d0887"
             ],
             [
              0.1111111111111111,
              "#46039f"
             ],
             [
              0.2222222222222222,
              "#7201a8"
             ],
             [
              0.3333333333333333,
              "#9c179e"
             ],
             [
              0.4444444444444444,
              "#bd3786"
             ],
             [
              0.5555555555555556,
              "#d8576b"
             ],
             [
              0.6666666666666666,
              "#ed7953"
             ],
             [
              0.7777777777777778,
              "#fb9f3a"
             ],
             [
              0.8888888888888888,
              "#fdca26"
             ],
             [
              1,
              "#f0f921"
             ]
            ],
            "type": "heatmap"
           }
          ],
          "heatmapgl": [
           {
            "colorbar": {
             "outlinewidth": 0,
             "ticks": ""
            },
            "colorscale": [
             [
              0,
              "#0d0887"
             ],
             [
              0.1111111111111111,
              "#46039f"
             ],
             [
              0.2222222222222222,
              "#7201a8"
             ],
             [
              0.3333333333333333,
              "#9c179e"
             ],
             [
              0.4444444444444444,
              "#bd3786"
             ],
             [
              0.5555555555555556,
              "#d8576b"
             ],
             [
              0.6666666666666666,
              "#ed7953"
             ],
             [
              0.7777777777777778,
              "#fb9f3a"
             ],
             [
              0.8888888888888888,
              "#fdca26"
             ],
             [
              1,
              "#f0f921"
             ]
            ],
            "type": "heatmapgl"
           }
          ],
          "histogram": [
           {
            "marker": {
             "pattern": {
              "fillmode": "overlay",
              "size": 10,
              "solidity": 0.2
             }
            },
            "type": "histogram"
           }
          ],
          "histogram2d": [
           {
            "colorbar": {
             "outlinewidth": 0,
             "ticks": ""
            },
            "colorscale": [
             [
              0,
              "#0d0887"
             ],
             [
              0.1111111111111111,
              "#46039f"
             ],
             [
              0.2222222222222222,
              "#7201a8"
             ],
             [
              0.3333333333333333,
              "#9c179e"
             ],
             [
              0.4444444444444444,
              "#bd3786"
             ],
             [
              0.5555555555555556,
              "#d8576b"
             ],
             [
              0.6666666666666666,
              "#ed7953"
             ],
             [
              0.7777777777777778,
              "#fb9f3a"
             ],
             [
              0.8888888888888888,
              "#fdca26"
             ],
             [
              1,
              "#f0f921"
             ]
            ],
            "type": "histogram2d"
           }
          ],
          "histogram2dcontour": [
           {
            "colorbar": {
             "outlinewidth": 0,
             "ticks": ""
            },
            "colorscale": [
             [
              0,
              "#0d0887"
             ],
             [
              0.1111111111111111,
              "#46039f"
             ],
             [
              0.2222222222222222,
              "#7201a8"
             ],
             [
              0.3333333333333333,
              "#9c179e"
             ],
             [
              0.4444444444444444,
              "#bd3786"
             ],
             [
              0.5555555555555556,
              "#d8576b"
             ],
             [
              0.6666666666666666,
              "#ed7953"
             ],
             [
              0.7777777777777778,
              "#fb9f3a"
             ],
             [
              0.8888888888888888,
              "#fdca26"
             ],
             [
              1,
              "#f0f921"
             ]
            ],
            "type": "histogram2dcontour"
           }
          ],
          "mesh3d": [
           {
            "colorbar": {
             "outlinewidth": 0,
             "ticks": ""
            },
            "type": "mesh3d"
           }
          ],
          "parcoords": [
           {
            "line": {
             "colorbar": {
              "outlinewidth": 0,
              "ticks": ""
             }
            },
            "type": "parcoords"
           }
          ],
          "pie": [
           {
            "automargin": true,
            "type": "pie"
           }
          ],
          "scatter": [
           {
            "fillpattern": {
             "fillmode": "overlay",
             "size": 10,
             "solidity": 0.2
            },
            "type": "scatter"
           }
          ],
          "scatter3d": [
           {
            "line": {
             "colorbar": {
              "outlinewidth": 0,
              "ticks": ""
             }
            },
            "marker": {
             "colorbar": {
              "outlinewidth": 0,
              "ticks": ""
             }
            },
            "type": "scatter3d"
           }
          ],
          "scattercarpet": [
           {
            "marker": {
             "colorbar": {
              "outlinewidth": 0,
              "ticks": ""
             }
            },
            "type": "scattercarpet"
           }
          ],
          "scattergeo": [
           {
            "marker": {
             "colorbar": {
              "outlinewidth": 0,
              "ticks": ""
             }
            },
            "type": "scattergeo"
           }
          ],
          "scattergl": [
           {
            "marker": {
             "colorbar": {
              "outlinewidth": 0,
              "ticks": ""
             }
            },
            "type": "scattergl"
           }
          ],
          "scattermapbox": [
           {
            "marker": {
             "colorbar": {
              "outlinewidth": 0,
              "ticks": ""
             }
            },
            "type": "scattermapbox"
           }
          ],
          "scatterpolar": [
           {
            "marker": {
             "colorbar": {
              "outlinewidth": 0,
              "ticks": ""
             }
            },
            "type": "scatterpolar"
           }
          ],
          "scatterpolargl": [
           {
            "marker": {
             "colorbar": {
              "outlinewidth": 0,
              "ticks": ""
             }
            },
            "type": "scatterpolargl"
           }
          ],
          "scatterternary": [
           {
            "marker": {
             "colorbar": {
              "outlinewidth": 0,
              "ticks": ""
             }
            },
            "type": "scatterternary"
           }
          ],
          "surface": [
           {
            "colorbar": {
             "outlinewidth": 0,
             "ticks": ""
            },
            "colorscale": [
             [
              0,
              "#0d0887"
             ],
             [
              0.1111111111111111,
              "#46039f"
             ],
             [
              0.2222222222222222,
              "#7201a8"
             ],
             [
              0.3333333333333333,
              "#9c179e"
             ],
             [
              0.4444444444444444,
              "#bd3786"
             ],
             [
              0.5555555555555556,
              "#d8576b"
             ],
             [
              0.6666666666666666,
              "#ed7953"
             ],
             [
              0.7777777777777778,
              "#fb9f3a"
             ],
             [
              0.8888888888888888,
              "#fdca26"
             ],
             [
              1,
              "#f0f921"
             ]
            ],
            "type": "surface"
           }
          ],
          "table": [
           {
            "cells": {
             "fill": {
              "color": "#EBF0F8"
             },
             "line": {
              "color": "white"
             }
            },
            "header": {
             "fill": {
              "color": "#C8D4E3"
             },
             "line": {
              "color": "white"
             }
            },
            "type": "table"
           }
          ]
         },
         "layout": {
          "annotationdefaults": {
           "arrowcolor": "#2a3f5f",
           "arrowhead": 0,
           "arrowwidth": 1
          },
          "autotypenumbers": "strict",
          "coloraxis": {
           "colorbar": {
            "outlinewidth": 0,
            "ticks": ""
           }
          },
          "colorscale": {
           "diverging": [
            [
             0,
             "#8e0152"
            ],
            [
             0.1,
             "#c51b7d"
            ],
            [
             0.2,
             "#de77ae"
            ],
            [
             0.3,
             "#f1b6da"
            ],
            [
             0.4,
             "#fde0ef"
            ],
            [
             0.5,
             "#f7f7f7"
            ],
            [
             0.6,
             "#e6f5d0"
            ],
            [
             0.7,
             "#b8e186"
            ],
            [
             0.8,
             "#7fbc41"
            ],
            [
             0.9,
             "#4d9221"
            ],
            [
             1,
             "#276419"
            ]
           ],
           "sequential": [
            [
             0,
             "#0d0887"
            ],
            [
             0.1111111111111111,
             "#46039f"
            ],
            [
             0.2222222222222222,
             "#7201a8"
            ],
            [
             0.3333333333333333,
             "#9c179e"
            ],
            [
             0.4444444444444444,
             "#bd3786"
            ],
            [
             0.5555555555555556,
             "#d8576b"
            ],
            [
             0.6666666666666666,
             "#ed7953"
            ],
            [
             0.7777777777777778,
             "#fb9f3a"
            ],
            [
             0.8888888888888888,
             "#fdca26"
            ],
            [
             1,
             "#f0f921"
            ]
           ],
           "sequentialminus": [
            [
             0,
             "#0d0887"
            ],
            [
             0.1111111111111111,
             "#46039f"
            ],
            [
             0.2222222222222222,
             "#7201a8"
            ],
            [
             0.3333333333333333,
             "#9c179e"
            ],
            [
             0.4444444444444444,
             "#bd3786"
            ],
            [
             0.5555555555555556,
             "#d8576b"
            ],
            [
             0.6666666666666666,
             "#ed7953"
            ],
            [
             0.7777777777777778,
             "#fb9f3a"
            ],
            [
             0.8888888888888888,
             "#fdca26"
            ],
            [
             1,
             "#f0f921"
            ]
           ]
          },
          "colorway": [
           "#636efa",
           "#EF553B",
           "#00cc96",
           "#ab63fa",
           "#FFA15A",
           "#19d3f3",
           "#FF6692",
           "#B6E880",
           "#FF97FF",
           "#FECB52"
          ],
          "font": {
           "color": "#2a3f5f"
          },
          "geo": {
           "bgcolor": "white",
           "lakecolor": "white",
           "landcolor": "#E5ECF6",
           "showlakes": true,
           "showland": true,
           "subunitcolor": "white"
          },
          "hoverlabel": {
           "align": "left"
          },
          "hovermode": "closest",
          "mapbox": {
           "style": "light"
          },
          "paper_bgcolor": "white",
          "plot_bgcolor": "#E5ECF6",
          "polar": {
           "angularaxis": {
            "gridcolor": "white",
            "linecolor": "white",
            "ticks": ""
           },
           "bgcolor": "#E5ECF6",
           "radialaxis": {
            "gridcolor": "white",
            "linecolor": "white",
            "ticks": ""
           }
          },
          "scene": {
           "xaxis": {
            "backgroundcolor": "#E5ECF6",
            "gridcolor": "white",
            "gridwidth": 2,
            "linecolor": "white",
            "showbackground": true,
            "ticks": "",
            "zerolinecolor": "white"
           },
           "yaxis": {
            "backgroundcolor": "#E5ECF6",
            "gridcolor": "white",
            "gridwidth": 2,
            "linecolor": "white",
            "showbackground": true,
            "ticks": "",
            "zerolinecolor": "white"
           },
           "zaxis": {
            "backgroundcolor": "#E5ECF6",
            "gridcolor": "white",
            "gridwidth": 2,
            "linecolor": "white",
            "showbackground": true,
            "ticks": "",
            "zerolinecolor": "white"
           }
          },
          "shapedefaults": {
           "line": {
            "color": "#2a3f5f"
           }
          },
          "ternary": {
           "aaxis": {
            "gridcolor": "white",
            "linecolor": "white",
            "ticks": ""
           },
           "baxis": {
            "gridcolor": "white",
            "linecolor": "white",
            "ticks": ""
           },
           "bgcolor": "#E5ECF6",
           "caxis": {
            "gridcolor": "white",
            "linecolor": "white",
            "ticks": ""
           }
          },
          "title": {
           "x": 0.05
          },
          "xaxis": {
           "automargin": true,
           "gridcolor": "white",
           "linecolor": "white",
           "ticks": "",
           "title": {
            "standoff": 15
           },
           "zerolinecolor": "white",
           "zerolinewidth": 2
          },
          "yaxis": {
           "automargin": true,
           "gridcolor": "white",
           "linecolor": "white",
           "ticks": "",
           "title": {
            "standoff": 15
           },
           "zerolinecolor": "white",
           "zerolinewidth": 2
          }
         }
        },
        "width": 1020,
        "xaxis": {
         "title": {
          "text": "Time slots"
         }
        },
        "yaxis": {
         "title": {
          "text": "Carbon intensity in kgCO2/kWh"
         }
        }
       }
      }
     },
     "metadata": {},
     "output_type": "display_data"
    },
    {
     "data": {
      "application/vnd.plotly.v1+json": {
       "config": {
        "plotlyServerURL": "https://plot.ly"
       },
       "data": [
        {
         "line": {
          "color": "black",
          "width": 2
         },
         "mode": "lines",
         "showlegend": false,
         "type": "scatter",
         "x": [
          0,
          1,
          2,
          3,
          4,
          5,
          6,
          7,
          8,
          9,
          10,
          11,
          12,
          13,
          14,
          15,
          16,
          17,
          18,
          19,
          20,
          21,
          22,
          23,
          24,
          25,
          26,
          27,
          28,
          29,
          30,
          31,
          32,
          33,
          34,
          35,
          36,
          37,
          38,
          39,
          40,
          41,
          42,
          43,
          44,
          45,
          46,
          47,
          48,
          49,
          50,
          51,
          52,
          53,
          54,
          55,
          56,
          57,
          58,
          59,
          60,
          61,
          62,
          63,
          64,
          65,
          66,
          67,
          68,
          69,
          70,
          71,
          72,
          73,
          74,
          75,
          76,
          77,
          78,
          79,
          80,
          81,
          82,
          83,
          84,
          85,
          86,
          87,
          88,
          89,
          90,
          91,
          92,
          93,
          94,
          95,
          96,
          97,
          98,
          99,
          100,
          101,
          102,
          103,
          104,
          105,
          106,
          107,
          108,
          109,
          110,
          111,
          112,
          113,
          114,
          115,
          116,
          117,
          118,
          119,
          120,
          121,
          122,
          123,
          124,
          125,
          126,
          127,
          128,
          129,
          130,
          131,
          132,
          133,
          134,
          135,
          136,
          137,
          138,
          139,
          140,
          141,
          142,
          143,
          144,
          145,
          146,
          147,
          148,
          149,
          150,
          151,
          152,
          153,
          154,
          155,
          156,
          157,
          158,
          159,
          160,
          161,
          162,
          163,
          164,
          165,
          166,
          167,
          168,
          169,
          170,
          171,
          172,
          173,
          174,
          175,
          176,
          177,
          178,
          179,
          180,
          181,
          182,
          183,
          184,
          185,
          186,
          187,
          188,
          189,
          190,
          191,
          192,
          193,
          194,
          195,
          196,
          197,
          198,
          199,
          200,
          201,
          202,
          203,
          204,
          205,
          206,
          207,
          208,
          209,
          210,
          211,
          212,
          213,
          214,
          215,
          216,
          217,
          218,
          219,
          220,
          221,
          222,
          223,
          224,
          225,
          226,
          227,
          228,
          229,
          230,
          231,
          232,
          233,
          234,
          235,
          236,
          237,
          238,
          239,
          240,
          241,
          242,
          243,
          244,
          245,
          246,
          247,
          248,
          249
         ],
         "y": [
          0.09614,
          0.09913,
          0.10237,
          0.10311,
          0.11239,
          0.1098,
          0.10331,
          0.06952,
          0.05609,
          0.06142,
          0.06537000000000001,
          0.06595000000000001,
          0.08854000000000001,
          0.12608,
          0.1497,
          0.17441,
          0.23703,
          0.2581,
          0.24687,
          0.22455,
          0.18707,
          0.20144,
          0.26312,
          0.25335,
          0.26135,
          0.2737,
          0.32937,
          0.38977,
          0.41195,
          0.34088,
          0.25821,
          0.19244,
          0.15956,
          0.13682,
          0.12196,
          0.10901000000000001,
          0.10472,
          0.10595,
          0.12057999999999999,
          0.15512,
          0.26556,
          0.30482,
          0.27581,
          0.26202,
          0.26831,
          0.30912,
          0.36743000000000003,
          0.3599,
          0.39882999999999996,
          0.38833999999999996,
          0.39274000000000003,
          0.41729,
          0.41527,
          0.35712,
          0.2554,
          0.26245999999999997,
          0.18996000000000002,
          0.13557,
          0.12445,
          0.13211,
          0.14385,
          0.15834,
          0.16756000000000001,
          0.16838,
          0.18821000000000002,
          0.17243,
          0.15127000000000002,
          0.16136,
          0.16418000000000002,
          0.17178,
          0.18122,
          0.16984,
          0.16194999999999998,
          0.14683000000000002,
          0.14973,
          0.1638,
          0.16443000000000002,
          0.16032,
          0.10025,
          0.10065,
          0.1179,
          0.09206,
          0.07697,
          0.10118,
          0.09731000000000001,
          0.10809999999999999,
          0.15255000000000002,
          0.192,
          0.21794,
          0.18255000000000002,
          0.13383,
          0.10402,
          0.08979999999999999,
          0.08062000000000001,
          0.07978,
          0.08471,
          0.07579999999999999,
          0.07732,
          0.08188,
          0.1033,
          0.13712,
          0.13616,
          0.07866,
          0.05189,
          0.05347,
          0.05305,
          0.05223,
          0.049409999999999996,
          0.046799999999999994,
          0.05983,
          0.08463,
          0.13605,
          0.18647999999999998,
          0.20777,
          0.2084,
          0.19390000000000002,
          0.17522,
          0.15641999999999998,
          0.12582,
          0.11761,
          0.10803,
          0.10267,
          0.11938,
          0.17754,
          0.28026999999999996,
          0.2475,
          0.14474,
          0.11142,
          0.10976000000000001,
          0.09698000000000001,
          0.07737000000000001,
          0.07553,
          0.07664,
          0.06776,
          0.10016,
          0.18600999999999998,
          0.26899,
          0.33171,
          0.33535000000000004,
          0.32683,
          0.3579,
          0.38039,
          0.36033,
          0.32377999999999996,
          0.30913,
          0.25562,
          0.2515,
          0.32282,
          0.34422,
          0.26673,
          0.2211,
          0.1679,
          0.11272,
          0.08409,
          0.06835,
          0.06675,
          0.06397,
          0.06477,
          0.07124,
          0.07186,
          0.09581999999999999,
          0.12286,
          0.12012,
          0.09972,
          0.07795999999999999,
          0.07740999999999999,
          0.07503,
          0.0358,
          0.03726,
          0.038299999999999994,
          0.039490000000000004,
          0.03661,
          0.03667,
          0.03961,
          0.041229999999999996,
          0.03943,
          0.04004,
          0.0427,
          0.0432,
          0.04518,
          0.048,
          0.04725,
          0.048909999999999995,
          0.045899999999999996,
          0.06007,
          0.06412999999999999,
          0.05441,
          0.039259999999999996,
          0.04217,
          0.04621,
          0.04352,
          0.03849,
          0.03764,
          0.0375,
          0.03731,
          0.046740000000000004,
          0.04854,
          0.05439,
          0.055920000000000004,
          0.0572,
          0.05894,
          0.056530000000000004,
          0.05941,
          0.059,
          0.06039,
          0.05995,
          0.05645,
          0.04813,
          0.09411,
          0.14878,
          0.1799,
          0.20373,
          0.20343,
          0.15547999999999998,
          0.16884,
          0.2086,
          0.19555,
          0.18122,
          0.21367,
          0.25677,
          0.26327,
          0.18863999999999997,
          0.13243000000000002,
          0.10325,
          0.09620000000000001,
          0.07468999999999999,
          0.07289,
          0.07456,
          0.07199,
          0.07158,
          0.08103,
          0.14123,
          0.29219,
          0.40023000000000003,
          0.36484,
          0.29497,
          0.24355000000000002,
          0.18597999999999998,
          0.15546000000000001,
          0.12287999999999999,
          0.09215999999999999,
          0.04523,
          0.0422,
          0.04188,
          0.04186,
          0.04284,
          0.04308,
          0.04818,
          0.04696,
          0.04623
         ]
        },
        {
         "hovertemplate": "color=Idle<br>x=%{x}<br>y=%{y}<extra></extra>",
         "legendgroup": "Idle",
         "marker": {
          "color": "black",
          "symbol": "circle"
         },
         "mode": "markers",
         "name": "Idle",
         "orientation": "v",
         "showlegend": true,
         "type": "scatter",
         "x": [
          0,
          1,
          2,
          3,
          4,
          5,
          6,
          7,
          8,
          9,
          10,
          11,
          12,
          13,
          14,
          15,
          16,
          17,
          18,
          19,
          20,
          21,
          22,
          23,
          24,
          25,
          26,
          27,
          28,
          29,
          30,
          31,
          32,
          33,
          34,
          35,
          36,
          37,
          38,
          39,
          40,
          41,
          42,
          43,
          44,
          45,
          46,
          47,
          48,
          49,
          50,
          51,
          52,
          53,
          54,
          55,
          56,
          57,
          58,
          59,
          60,
          61,
          62,
          63,
          64,
          65,
          66,
          67,
          68,
          69,
          70,
          71,
          72,
          73,
          74,
          75,
          76,
          77,
          78,
          79,
          80,
          81,
          82,
          83,
          84,
          85,
          86,
          87,
          88,
          89,
          210,
          211,
          212,
          213,
          214,
          215,
          216,
          217,
          218,
          219,
          220,
          221,
          222,
          223,
          224,
          225,
          226,
          227,
          228,
          229,
          230,
          231,
          232,
          233,
          234,
          235,
          236,
          237,
          238,
          239,
          240,
          241,
          242,
          243,
          244,
          245,
          246,
          247,
          248,
          249
         ],
         "xaxis": "x",
         "y": [
          0.09614,
          0.09913,
          0.10237,
          0.10311,
          0.11239,
          0.1098,
          0.10331,
          0.06952,
          0.05609,
          0.06142,
          0.06537000000000001,
          0.06595000000000001,
          0.08854000000000001,
          0.12608,
          0.1497,
          0.17441,
          0.23703,
          0.2581,
          0.24687,
          0.22455,
          0.18707,
          0.20144,
          0.26312,
          0.25335,
          0.26135,
          0.2737,
          0.32937,
          0.38977,
          0.41195,
          0.34088,
          0.25821,
          0.19244,
          0.15956,
          0.13682,
          0.12196,
          0.10901000000000001,
          0.10472,
          0.10595,
          0.12057999999999999,
          0.15512,
          0.26556,
          0.30482,
          0.27581,
          0.26202,
          0.26831,
          0.30912,
          0.36743000000000003,
          0.3599,
          0.39882999999999996,
          0.38833999999999996,
          0.39274000000000003,
          0.41729,
          0.41527,
          0.35712,
          0.2554,
          0.26245999999999997,
          0.18996000000000002,
          0.13557,
          0.12445,
          0.13211,
          0.14385,
          0.15834,
          0.16756000000000001,
          0.16838,
          0.18821000000000002,
          0.17243,
          0.15127000000000002,
          0.16136,
          0.16418000000000002,
          0.17178,
          0.18122,
          0.16984,
          0.16194999999999998,
          0.14683000000000002,
          0.14973,
          0.1638,
          0.16443000000000002,
          0.16032,
          0.10025,
          0.10065,
          0.1179,
          0.09206,
          0.07697,
          0.10118,
          0.09731000000000001,
          0.10809999999999999,
          0.15255000000000002,
          0.192,
          0.21794,
          0.18255000000000002,
          0.1799,
          0.20373,
          0.20343,
          0.15547999999999998,
          0.16884,
          0.2086,
          0.19555,
          0.18122,
          0.21367,
          0.25677,
          0.26327,
          0.18863999999999997,
          0.13243000000000002,
          0.10325,
          0.09620000000000001,
          0.07468999999999999,
          0.07289,
          0.07456,
          0.07199,
          0.07158,
          0.08103,
          0.14123,
          0.29219,
          0.40023000000000003,
          0.36484,
          0.29497,
          0.24355000000000002,
          0.18597999999999998,
          0.15546000000000001,
          0.12287999999999999,
          0.09215999999999999,
          0.04523,
          0.0422,
          0.04188,
          0.04186,
          0.04284,
          0.04308,
          0.04818,
          0.04696,
          0.04623
         ],
         "yaxis": "y"
        },
        {
         "hovertemplate": "color=Starting<br>x=%{x}<br>y=%{y}<extra></extra>",
         "legendgroup": "Starting",
         "marker": {
          "color": "green",
          "symbol": "circle"
         },
         "mode": "markers",
         "name": "Starting",
         "orientation": "v",
         "showlegend": true,
         "type": "scatter",
         "x": [
          90,
          91,
          92,
          93,
          94,
          95,
          96,
          97,
          98,
          99,
          100,
          101,
          102,
          103,
          104,
          105,
          106,
          107,
          108
         ],
         "xaxis": "x",
         "y": [
          0.13383,
          0.10402,
          0.08979999999999999,
          0.08062000000000001,
          0.07978,
          0.08471,
          0.07579999999999999,
          0.07732,
          0.08188,
          0.1033,
          0.13712,
          0.13616,
          0.07866,
          0.05189,
          0.05347,
          0.05305,
          0.05223,
          0.049409999999999996,
          0.046799999999999994
         ],
         "yaxis": "y"
        },
        {
         "hovertemplate": "color=Startup finished<br>x=%{x}<br>y=%{y}<extra></extra>",
         "legendgroup": "Startup finished",
         "marker": {
          "color": "lime",
          "symbol": "circle"
         },
         "mode": "markers",
         "name": "Startup finished",
         "orientation": "v",
         "showlegend": true,
         "type": "scatter",
         "x": [
          109
         ],
         "xaxis": "x",
         "y": [
          0.05983
         ],
         "yaxis": "y"
        },
        {
         "hovertemplate": "color=Work<br>x=%{x}<br>y=%{y}<extra></extra>",
         "legendgroup": "Work",
         "marker": {
          "color": "red",
          "symbol": "circle"
         },
         "mode": "markers",
         "name": "Work",
         "orientation": "v",
         "showlegend": true,
         "type": "scatter",
         "x": [
          110,
          111,
          112,
          113,
          114,
          115,
          116,
          117,
          118,
          119,
          120,
          121,
          122,
          123,
          124,
          125,
          126,
          127,
          128,
          129,
          130,
          131,
          132,
          133,
          134,
          135,
          136,
          137,
          138,
          139,
          140,
          141,
          142,
          143,
          144,
          145,
          146,
          147,
          148,
          149,
          150,
          151,
          152,
          153,
          154,
          155,
          156,
          157,
          158,
          159,
          160,
          161,
          162,
          163,
          164,
          165,
          166,
          167,
          168,
          169,
          170,
          171,
          172,
          173,
          174,
          175,
          176,
          177,
          178,
          179,
          180,
          181,
          182,
          183,
          184,
          185,
          186,
          187,
          188,
          189,
          190,
          191,
          192,
          193,
          194,
          195,
          196,
          197,
          198,
          199,
          200,
          201,
          202,
          203,
          204,
          205,
          206,
          207,
          208,
          209
         ],
         "xaxis": "x",
         "y": [
          0.08463,
          0.13605,
          0.18647999999999998,
          0.20777,
          0.2084,
          0.19390000000000002,
          0.17522,
          0.15641999999999998,
          0.12582,
          0.11761,
          0.10803,
          0.10267,
          0.11938,
          0.17754,
          0.28026999999999996,
          0.2475,
          0.14474,
          0.11142,
          0.10976000000000001,
          0.09698000000000001,
          0.07737000000000001,
          0.07553,
          0.07664,
          0.06776,
          0.10016,
          0.18600999999999998,
          0.26899,
          0.33171,
          0.33535000000000004,
          0.32683,
          0.3579,
          0.38039,
          0.36033,
          0.32377999999999996,
          0.30913,
          0.25562,
          0.2515,
          0.32282,
          0.34422,
          0.26673,
          0.2211,
          0.1679,
          0.11272,
          0.08409,
          0.06835,
          0.06675,
          0.06397,
          0.06477,
          0.07124,
          0.07186,
          0.09581999999999999,
          0.12286,
          0.12012,
          0.09972,
          0.07795999999999999,
          0.07740999999999999,
          0.07503,
          0.0358,
          0.03726,
          0.038299999999999994,
          0.039490000000000004,
          0.03661,
          0.03667,
          0.03961,
          0.041229999999999996,
          0.03943,
          0.04004,
          0.0427,
          0.0432,
          0.04518,
          0.048,
          0.04725,
          0.048909999999999995,
          0.045899999999999996,
          0.06007,
          0.06412999999999999,
          0.05441,
          0.039259999999999996,
          0.04217,
          0.04621,
          0.04352,
          0.03849,
          0.03764,
          0.0375,
          0.03731,
          0.046740000000000004,
          0.04854,
          0.05439,
          0.055920000000000004,
          0.0572,
          0.05894,
          0.056530000000000004,
          0.05941,
          0.059,
          0.06039,
          0.05995,
          0.05645,
          0.04813,
          0.09411,
          0.14878
         ],
         "yaxis": "y"
        }
       ],
       "layout": {
        "height": 250,
        "legend": {
         "x": 0.65,
         "xanchor": "left",
         "y": 0.97,
         "yanchor": "top"
        },
        "margin": {
         "b": 10,
         "l": 10,
         "r": 10,
         "t": 10
        },
        "template": {
         "data": {
          "bar": [
           {
            "error_x": {
             "color": "#2a3f5f"
            },
            "error_y": {
             "color": "#2a3f5f"
            },
            "marker": {
             "line": {
              "color": "#E5ECF6",
              "width": 0.5
             },
             "pattern": {
              "fillmode": "overlay",
              "size": 10,
              "solidity": 0.2
             }
            },
            "type": "bar"
           }
          ],
          "barpolar": [
           {
            "marker": {
             "line": {
              "color": "#E5ECF6",
              "width": 0.5
             },
             "pattern": {
              "fillmode": "overlay",
              "size": 10,
              "solidity": 0.2
             }
            },
            "type": "barpolar"
           }
          ],
          "carpet": [
           {
            "aaxis": {
             "endlinecolor": "#2a3f5f",
             "gridcolor": "white",
             "linecolor": "white",
             "minorgridcolor": "white",
             "startlinecolor": "#2a3f5f"
            },
            "baxis": {
             "endlinecolor": "#2a3f5f",
             "gridcolor": "white",
             "linecolor": "white",
             "minorgridcolor": "white",
             "startlinecolor": "#2a3f5f"
            },
            "type": "carpet"
           }
          ],
          "choropleth": [
           {
            "colorbar": {
             "outlinewidth": 0,
             "ticks": ""
            },
            "type": "choropleth"
           }
          ],
          "contour": [
           {
            "colorbar": {
             "outlinewidth": 0,
             "ticks": ""
            },
            "colorscale": [
             [
              0,
              "#0d0887"
             ],
             [
              0.1111111111111111,
              "#46039f"
             ],
             [
              0.2222222222222222,
              "#7201a8"
             ],
             [
              0.3333333333333333,
              "#9c179e"
             ],
             [
              0.4444444444444444,
              "#bd3786"
             ],
             [
              0.5555555555555556,
              "#d8576b"
             ],
             [
              0.6666666666666666,
              "#ed7953"
             ],
             [
              0.7777777777777778,
              "#fb9f3a"
             ],
             [
              0.8888888888888888,
              "#fdca26"
             ],
             [
              1,
              "#f0f921"
             ]
            ],
            "type": "contour"
           }
          ],
          "contourcarpet": [
           {
            "colorbar": {
             "outlinewidth": 0,
             "ticks": ""
            },
            "type": "contourcarpet"
           }
          ],
          "heatmap": [
           {
            "colorbar": {
             "outlinewidth": 0,
             "ticks": ""
            },
            "colorscale": [
             [
              0,
              "#0d0887"
             ],
             [
              0.1111111111111111,
              "#46039f"
             ],
             [
              0.2222222222222222,
              "#7201a8"
             ],
             [
              0.3333333333333333,
              "#9c179e"
             ],
             [
              0.4444444444444444,
              "#bd3786"
             ],
             [
              0.5555555555555556,
              "#d8576b"
             ],
             [
              0.6666666666666666,
              "#ed7953"
             ],
             [
              0.7777777777777778,
              "#fb9f3a"
             ],
             [
              0.8888888888888888,
              "#fdca26"
             ],
             [
              1,
              "#f0f921"
             ]
            ],
            "type": "heatmap"
           }
          ],
          "heatmapgl": [
           {
            "colorbar": {
             "outlinewidth": 0,
             "ticks": ""
            },
            "colorscale": [
             [
              0,
              "#0d0887"
             ],
             [
              0.1111111111111111,
              "#46039f"
             ],
             [
              0.2222222222222222,
              "#7201a8"
             ],
             [
              0.3333333333333333,
              "#9c179e"
             ],
             [
              0.4444444444444444,
              "#bd3786"
             ],
             [
              0.5555555555555556,
              "#d8576b"
             ],
             [
              0.6666666666666666,
              "#ed7953"
             ],
             [
              0.7777777777777778,
              "#fb9f3a"
             ],
             [
              0.8888888888888888,
              "#fdca26"
             ],
             [
              1,
              "#f0f921"
             ]
            ],
            "type": "heatmapgl"
           }
          ],
          "histogram": [
           {
            "marker": {
             "pattern": {
              "fillmode": "overlay",
              "size": 10,
              "solidity": 0.2
             }
            },
            "type": "histogram"
           }
          ],
          "histogram2d": [
           {
            "colorbar": {
             "outlinewidth": 0,
             "ticks": ""
            },
            "colorscale": [
             [
              0,
              "#0d0887"
             ],
             [
              0.1111111111111111,
              "#46039f"
             ],
             [
              0.2222222222222222,
              "#7201a8"
             ],
             [
              0.3333333333333333,
              "#9c179e"
             ],
             [
              0.4444444444444444,
              "#bd3786"
             ],
             [
              0.5555555555555556,
              "#d8576b"
             ],
             [
              0.6666666666666666,
              "#ed7953"
             ],
             [
              0.7777777777777778,
              "#fb9f3a"
             ],
             [
              0.8888888888888888,
              "#fdca26"
             ],
             [
              1,
              "#f0f921"
             ]
            ],
            "type": "histogram2d"
           }
          ],
          "histogram2dcontour": [
           {
            "colorbar": {
             "outlinewidth": 0,
             "ticks": ""
            },
            "colorscale": [
             [
              0,
              "#0d0887"
             ],
             [
              0.1111111111111111,
              "#46039f"
             ],
             [
              0.2222222222222222,
              "#7201a8"
             ],
             [
              0.3333333333333333,
              "#9c179e"
             ],
             [
              0.4444444444444444,
              "#bd3786"
             ],
             [
              0.5555555555555556,
              "#d8576b"
             ],
             [
              0.6666666666666666,
              "#ed7953"
             ],
             [
              0.7777777777777778,
              "#fb9f3a"
             ],
             [
              0.8888888888888888,
              "#fdca26"
             ],
             [
              1,
              "#f0f921"
             ]
            ],
            "type": "histogram2dcontour"
           }
          ],
          "mesh3d": [
           {
            "colorbar": {
             "outlinewidth": 0,
             "ticks": ""
            },
            "type": "mesh3d"
           }
          ],
          "parcoords": [
           {
            "line": {
             "colorbar": {
              "outlinewidth": 0,
              "ticks": ""
             }
            },
            "type": "parcoords"
           }
          ],
          "pie": [
           {
            "automargin": true,
            "type": "pie"
           }
          ],
          "scatter": [
           {
            "fillpattern": {
             "fillmode": "overlay",
             "size": 10,
             "solidity": 0.2
            },
            "type": "scatter"
           }
          ],
          "scatter3d": [
           {
            "line": {
             "colorbar": {
              "outlinewidth": 0,
              "ticks": ""
             }
            },
            "marker": {
             "colorbar": {
              "outlinewidth": 0,
              "ticks": ""
             }
            },
            "type": "scatter3d"
           }
          ],
          "scattercarpet": [
           {
            "marker": {
             "colorbar": {
              "outlinewidth": 0,
              "ticks": ""
             }
            },
            "type": "scattercarpet"
           }
          ],
          "scattergeo": [
           {
            "marker": {
             "colorbar": {
              "outlinewidth": 0,
              "ticks": ""
             }
            },
            "type": "scattergeo"
           }
          ],
          "scattergl": [
           {
            "marker": {
             "colorbar": {
              "outlinewidth": 0,
              "ticks": ""
             }
            },
            "type": "scattergl"
           }
          ],
          "scattermapbox": [
           {
            "marker": {
             "colorbar": {
              "outlinewidth": 0,
              "ticks": ""
             }
            },
            "type": "scattermapbox"
           }
          ],
          "scatterpolar": [
           {
            "marker": {
             "colorbar": {
              "outlinewidth": 0,
              "ticks": ""
             }
            },
            "type": "scatterpolar"
           }
          ],
          "scatterpolargl": [
           {
            "marker": {
             "colorbar": {
              "outlinewidth": 0,
              "ticks": ""
             }
            },
            "type": "scatterpolargl"
           }
          ],
          "scatterternary": [
           {
            "marker": {
             "colorbar": {
              "outlinewidth": 0,
              "ticks": ""
             }
            },
            "type": "scatterternary"
           }
          ],
          "surface": [
           {
            "colorbar": {
             "outlinewidth": 0,
             "ticks": ""
            },
            "colorscale": [
             [
              0,
              "#0d0887"
             ],
             [
              0.1111111111111111,
              "#46039f"
             ],
             [
              0.2222222222222222,
              "#7201a8"
             ],
             [
              0.3333333333333333,
              "#9c179e"
             ],
             [
              0.4444444444444444,
              "#bd3786"
             ],
             [
              0.5555555555555556,
              "#d8576b"
             ],
             [
              0.6666666666666666,
              "#ed7953"
             ],
             [
              0.7777777777777778,
              "#fb9f3a"
             ],
             [
              0.8888888888888888,
              "#fdca26"
             ],
             [
              1,
              "#f0f921"
             ]
            ],
            "type": "surface"
           }
          ],
          "table": [
           {
            "cells": {
             "fill": {
              "color": "#EBF0F8"
             },
             "line": {
              "color": "white"
             }
            },
            "header": {
             "fill": {
              "color": "#C8D4E3"
             },
             "line": {
              "color": "white"
             }
            },
            "type": "table"
           }
          ]
         },
         "layout": {
          "annotationdefaults": {
           "arrowcolor": "#2a3f5f",
           "arrowhead": 0,
           "arrowwidth": 1
          },
          "autotypenumbers": "strict",
          "coloraxis": {
           "colorbar": {
            "outlinewidth": 0,
            "ticks": ""
           }
          },
          "colorscale": {
           "diverging": [
            [
             0,
             "#8e0152"
            ],
            [
             0.1,
             "#c51b7d"
            ],
            [
             0.2,
             "#de77ae"
            ],
            [
             0.3,
             "#f1b6da"
            ],
            [
             0.4,
             "#fde0ef"
            ],
            [
             0.5,
             "#f7f7f7"
            ],
            [
             0.6,
             "#e6f5d0"
            ],
            [
             0.7,
             "#b8e186"
            ],
            [
             0.8,
             "#7fbc41"
            ],
            [
             0.9,
             "#4d9221"
            ],
            [
             1,
             "#276419"
            ]
           ],
           "sequential": [
            [
             0,
             "#0d0887"
            ],
            [
             0.1111111111111111,
             "#46039f"
            ],
            [
             0.2222222222222222,
             "#7201a8"
            ],
            [
             0.3333333333333333,
             "#9c179e"
            ],
            [
             0.4444444444444444,
             "#bd3786"
            ],
            [
             0.5555555555555556,
             "#d8576b"
            ],
            [
             0.6666666666666666,
             "#ed7953"
            ],
            [
             0.7777777777777778,
             "#fb9f3a"
            ],
            [
             0.8888888888888888,
             "#fdca26"
            ],
            [
             1,
             "#f0f921"
            ]
           ],
           "sequentialminus": [
            [
             0,
             "#0d0887"
            ],
            [
             0.1111111111111111,
             "#46039f"
            ],
            [
             0.2222222222222222,
             "#7201a8"
            ],
            [
             0.3333333333333333,
             "#9c179e"
            ],
            [
             0.4444444444444444,
             "#bd3786"
            ],
            [
             0.5555555555555556,
             "#d8576b"
            ],
            [
             0.6666666666666666,
             "#ed7953"
            ],
            [
             0.7777777777777778,
             "#fb9f3a"
            ],
            [
             0.8888888888888888,
             "#fdca26"
            ],
            [
             1,
             "#f0f921"
            ]
           ]
          },
          "colorway": [
           "#636efa",
           "#EF553B",
           "#00cc96",
           "#ab63fa",
           "#FFA15A",
           "#19d3f3",
           "#FF6692",
           "#B6E880",
           "#FF97FF",
           "#FECB52"
          ],
          "font": {
           "color": "#2a3f5f"
          },
          "geo": {
           "bgcolor": "white",
           "lakecolor": "white",
           "landcolor": "#E5ECF6",
           "showlakes": true,
           "showland": true,
           "subunitcolor": "white"
          },
          "hoverlabel": {
           "align": "left"
          },
          "hovermode": "closest",
          "mapbox": {
           "style": "light"
          },
          "paper_bgcolor": "white",
          "plot_bgcolor": "#E5ECF6",
          "polar": {
           "angularaxis": {
            "gridcolor": "white",
            "linecolor": "white",
            "ticks": ""
           },
           "bgcolor": "#E5ECF6",
           "radialaxis": {
            "gridcolor": "white",
            "linecolor": "white",
            "ticks": ""
           }
          },
          "scene": {
           "xaxis": {
            "backgroundcolor": "#E5ECF6",
            "gridcolor": "white",
            "gridwidth": 2,
            "linecolor": "white",
            "showbackground": true,
            "ticks": "",
            "zerolinecolor": "white"
           },
           "yaxis": {
            "backgroundcolor": "#E5ECF6",
            "gridcolor": "white",
            "gridwidth": 2,
            "linecolor": "white",
            "showbackground": true,
            "ticks": "",
            "zerolinecolor": "white"
           },
           "zaxis": {
            "backgroundcolor": "#E5ECF6",
            "gridcolor": "white",
            "gridwidth": 2,
            "linecolor": "white",
            "showbackground": true,
            "ticks": "",
            "zerolinecolor": "white"
           }
          },
          "shapedefaults": {
           "line": {
            "color": "#2a3f5f"
           }
          },
          "ternary": {
           "aaxis": {
            "gridcolor": "white",
            "linecolor": "white",
            "ticks": ""
           },
           "baxis": {
            "gridcolor": "white",
            "linecolor": "white",
            "ticks": ""
           },
           "bgcolor": "#E5ECF6",
           "caxis": {
            "gridcolor": "white",
            "linecolor": "white",
            "ticks": ""
           }
          },
          "title": {
           "x": 0.05
          },
          "xaxis": {
           "automargin": true,
           "gridcolor": "white",
           "linecolor": "white",
           "ticks": "",
           "title": {
            "standoff": 15
           },
           "zerolinecolor": "white",
           "zerolinewidth": 2
          },
          "yaxis": {
           "automargin": true,
           "gridcolor": "white",
           "linecolor": "white",
           "ticks": "",
           "title": {
            "standoff": 15
           },
           "zerolinecolor": "white",
           "zerolinewidth": 2
          }
         }
        },
        "width": 1020,
        "xaxis": {
         "title": {
          "text": "Time slots"
         }
        },
        "yaxis": {
         "title": {
          "text": "Carbon intensity in kgCO2/kWh"
         }
        }
       }
      }
     },
     "metadata": {},
     "output_type": "display_data"
    },
    {
     "data": {
      "application/vnd.plotly.v1+json": {
       "config": {
        "plotlyServerURL": "https://plot.ly"
       },
       "data": [
        {
         "marker": {
          "color": "green"
         },
         "mode": "markers",
         "showlegend": false,
         "type": "scatter",
         "x": [
          90,
          91,
          92,
          93,
          94,
          95,
          96,
          97,
          98,
          99,
          100,
          101,
          102,
          103,
          104,
          105,
          106,
          107,
          108,
          109,
          249
         ],
         "xaxis": "x",
         "y": [
          1,
          2,
          3,
          4,
          5,
          6,
          7,
          8,
          9,
          10,
          11,
          12,
          13,
          14,
          15,
          16,
          17,
          18,
          19,
          20,
          null
         ],
         "yaxis": "y"
        },
        {
         "marker": {
          "color": "red"
         },
         "mode": "markers",
         "showlegend": false,
         "type": "scatter",
         "x": [
          110,
          111,
          112,
          113,
          114,
          115,
          116,
          117,
          118,
          119,
          120,
          121,
          122,
          123,
          124,
          125,
          126,
          127,
          128,
          129,
          130,
          131,
          132,
          133,
          134,
          135,
          136,
          137,
          138,
          139,
          140,
          141,
          142,
          143,
          144,
          145,
          146,
          147,
          148,
          149,
          150,
          151,
          152,
          153,
          154,
          155,
          156,
          157,
          158,
          159,
          160,
          161,
          162,
          163,
          164,
          165,
          166,
          167,
          168,
          169,
          170,
          171,
          172,
          173,
          174,
          175,
          176,
          177,
          178,
          179,
          180,
          181,
          182,
          183,
          184,
          185,
          186,
          187,
          188,
          189,
          190,
          191,
          192,
          193,
          194,
          195,
          196,
          197,
          198,
          199,
          200,
          201,
          202,
          203,
          204,
          205,
          206,
          207,
          208,
          209,
          210,
          211,
          212,
          213,
          214,
          215,
          216,
          217,
          218,
          219,
          220,
          221,
          222,
          223,
          224,
          225,
          226,
          227,
          228,
          229,
          230,
          231,
          232,
          233,
          234,
          235,
          236,
          237,
          238,
          239,
          240,
          241,
          242,
          243,
          244,
          245,
          246,
          247,
          248,
          249
         ],
         "xaxis": "x",
         "y": [
          1,
          2,
          3,
          4,
          5,
          6,
          7,
          8,
          9,
          10,
          11,
          12,
          13,
          14,
          15,
          16,
          17,
          18,
          19,
          20,
          21,
          22,
          23,
          24,
          25,
          26,
          27,
          28,
          29,
          30,
          31,
          32,
          33,
          34,
          35,
          36,
          37,
          38,
          39,
          40,
          41,
          42,
          43,
          44,
          45,
          46,
          47,
          48,
          49,
          50,
          51,
          52,
          53,
          54,
          55,
          56,
          57,
          58,
          59,
          60,
          61,
          62,
          63,
          64,
          65,
          66,
          67,
          68,
          69,
          70,
          71,
          72,
          73,
          74,
          75,
          76,
          77,
          78,
          79,
          80,
          81,
          82,
          83,
          84,
          85,
          86,
          87,
          88,
          89,
          90,
          91,
          92,
          93,
          94,
          95,
          96,
          97,
          98,
          99,
          100,
          100,
          100,
          100,
          100,
          100,
          100,
          100,
          100,
          100,
          100,
          100,
          100,
          100,
          100,
          100,
          100,
          100,
          100,
          100,
          100,
          100,
          100,
          100,
          100,
          100,
          100,
          100,
          100,
          100,
          100,
          100,
          100,
          100,
          100,
          100,
          100,
          100,
          100,
          100,
          100
         ],
         "yaxis": "y"
        },
        {
         "line": {
          "color": "black",
          "width": 2
         },
         "mode": "lines",
         "showlegend": false,
         "type": "scatter",
         "x": [
          0,
          1,
          2,
          3,
          4,
          5,
          6,
          7,
          8,
          9,
          10,
          11,
          12,
          13,
          14,
          15,
          16,
          17,
          18,
          19,
          20,
          21,
          22,
          23,
          24,
          25,
          26,
          27,
          28,
          29,
          30,
          31,
          32,
          33,
          34,
          35,
          36,
          37,
          38,
          39,
          40,
          41,
          42,
          43,
          44,
          45,
          46,
          47,
          48,
          49,
          50,
          51,
          52,
          53,
          54,
          55,
          56,
          57,
          58,
          59,
          60,
          61,
          62,
          63,
          64,
          65,
          66,
          67,
          68,
          69,
          70,
          71,
          72,
          73,
          74,
          75,
          76,
          77,
          78,
          79,
          80,
          81,
          82,
          83,
          84,
          85,
          86,
          87,
          88,
          89,
          90,
          91,
          92,
          93,
          94,
          95,
          96,
          97,
          98,
          99,
          100,
          101,
          102,
          103,
          104,
          105,
          106,
          107,
          108,
          109,
          110,
          111,
          112,
          113,
          114,
          115,
          116,
          117,
          118,
          119,
          120,
          121,
          122,
          123,
          124,
          125,
          126,
          127,
          128,
          129,
          130,
          131,
          132,
          133,
          134,
          135,
          136,
          137,
          138,
          139,
          140,
          141,
          142,
          143,
          144,
          145,
          146,
          147,
          148,
          149,
          150,
          151,
          152,
          153,
          154,
          155,
          156,
          157,
          158,
          159,
          160,
          161,
          162,
          163,
          164,
          165,
          166,
          167,
          168,
          169,
          170,
          171,
          172,
          173,
          174,
          175,
          176,
          177,
          178,
          179,
          180,
          181,
          182,
          183,
          184,
          185,
          186,
          187,
          188,
          189,
          190,
          191,
          192,
          193,
          194,
          195,
          196,
          197,
          198,
          199,
          200,
          201,
          202,
          203,
          204,
          205,
          206,
          207,
          208,
          209,
          210,
          211,
          212,
          213,
          214,
          215,
          216,
          217,
          218,
          219,
          220,
          221,
          222,
          223,
          224,
          225,
          226,
          227,
          228,
          229,
          230,
          231,
          232,
          233,
          234,
          235,
          236,
          237,
          238,
          239,
          240,
          241,
          242,
          243,
          244,
          245,
          246,
          247,
          248,
          249
         ],
         "xaxis": "x2",
         "y": [
          0.09614,
          0.09913,
          0.10237,
          0.10311,
          0.11239,
          0.1098,
          0.10331,
          0.06952,
          0.05609,
          0.06142,
          0.06537000000000001,
          0.06595000000000001,
          0.08854000000000001,
          0.12608,
          0.1497,
          0.17441,
          0.23703,
          0.2581,
          0.24687,
          0.22455,
          0.18707,
          0.20144,
          0.26312,
          0.25335,
          0.26135,
          0.2737,
          0.32937,
          0.38977,
          0.41195,
          0.34088,
          0.25821,
          0.19244,
          0.15956,
          0.13682,
          0.12196,
          0.10901000000000001,
          0.10472,
          0.10595,
          0.12057999999999999,
          0.15512,
          0.26556,
          0.30482,
          0.27581,
          0.26202,
          0.26831,
          0.30912,
          0.36743000000000003,
          0.3599,
          0.39882999999999996,
          0.38833999999999996,
          0.39274000000000003,
          0.41729,
          0.41527,
          0.35712,
          0.2554,
          0.26245999999999997,
          0.18996000000000002,
          0.13557,
          0.12445,
          0.13211,
          0.14385,
          0.15834,
          0.16756000000000001,
          0.16838,
          0.18821000000000002,
          0.17243,
          0.15127000000000002,
          0.16136,
          0.16418000000000002,
          0.17178,
          0.18122,
          0.16984,
          0.16194999999999998,
          0.14683000000000002,
          0.14973,
          0.1638,
          0.16443000000000002,
          0.16032,
          0.10025,
          0.10065,
          0.1179,
          0.09206,
          0.07697,
          0.10118,
          0.09731000000000001,
          0.10809999999999999,
          0.15255000000000002,
          0.192,
          0.21794,
          0.18255000000000002,
          0.13383,
          0.10402,
          0.08979999999999999,
          0.08062000000000001,
          0.07978,
          0.08471,
          0.07579999999999999,
          0.07732,
          0.08188,
          0.1033,
          0.13712,
          0.13616,
          0.07866,
          0.05189,
          0.05347,
          0.05305,
          0.05223,
          0.049409999999999996,
          0.046799999999999994,
          0.05983,
          0.08463,
          0.13605,
          0.18647999999999998,
          0.20777,
          0.2084,
          0.19390000000000002,
          0.17522,
          0.15641999999999998,
          0.12582,
          0.11761,
          0.10803,
          0.10267,
          0.11938,
          0.17754,
          0.28026999999999996,
          0.2475,
          0.14474,
          0.11142,
          0.10976000000000001,
          0.09698000000000001,
          0.07737000000000001,
          0.07553,
          0.07664,
          0.06776,
          0.10016,
          0.18600999999999998,
          0.26899,
          0.33171,
          0.33535000000000004,
          0.32683,
          0.3579,
          0.38039,
          0.36033,
          0.32377999999999996,
          0.30913,
          0.25562,
          0.2515,
          0.32282,
          0.34422,
          0.26673,
          0.2211,
          0.1679,
          0.11272,
          0.08409,
          0.06835,
          0.06675,
          0.06397,
          0.06477,
          0.07124,
          0.07186,
          0.09581999999999999,
          0.12286,
          0.12012,
          0.09972,
          0.07795999999999999,
          0.07740999999999999,
          0.07503,
          0.0358,
          0.03726,
          0.038299999999999994,
          0.039490000000000004,
          0.03661,
          0.03667,
          0.03961,
          0.041229999999999996,
          0.03943,
          0.04004,
          0.0427,
          0.0432,
          0.04518,
          0.048,
          0.04725,
          0.048909999999999995,
          0.045899999999999996,
          0.06007,
          0.06412999999999999,
          0.05441,
          0.039259999999999996,
          0.04217,
          0.04621,
          0.04352,
          0.03849,
          0.03764,
          0.0375,
          0.03731,
          0.046740000000000004,
          0.04854,
          0.05439,
          0.055920000000000004,
          0.0572,
          0.05894,
          0.056530000000000004,
          0.05941,
          0.059,
          0.06039,
          0.05995,
          0.05645,
          0.04813,
          0.09411,
          0.14878,
          0.1799,
          0.20373,
          0.20343,
          0.15547999999999998,
          0.16884,
          0.2086,
          0.19555,
          0.18122,
          0.21367,
          0.25677,
          0.26327,
          0.18863999999999997,
          0.13243000000000002,
          0.10325,
          0.09620000000000001,
          0.07468999999999999,
          0.07289,
          0.07456,
          0.07199,
          0.07158,
          0.08103,
          0.14123,
          0.29219,
          0.40023000000000003,
          0.36484,
          0.29497,
          0.24355000000000002,
          0.18597999999999998,
          0.15546000000000001,
          0.12287999999999999,
          0.09215999999999999,
          0.04523,
          0.0422,
          0.04188,
          0.04186,
          0.04284,
          0.04308,
          0.04818,
          0.04696,
          0.04623
         ],
         "yaxis": "y2"
        },
        {
         "hovertemplate": "color=Idle<br>x=%{x}<br>y=%{y}<extra></extra>",
         "legendgroup": "Idle",
         "marker": {
          "color": "black",
          "symbol": "circle"
         },
         "mode": "markers",
         "name": "Idle",
         "orientation": "v",
         "showlegend": true,
         "type": "scatter",
         "x": [
          0,
          1,
          2,
          3,
          4,
          5,
          6,
          7,
          8,
          9,
          10,
          11,
          12,
          13,
          14,
          15,
          16,
          17,
          18,
          19,
          20,
          21,
          22,
          23,
          24,
          25,
          26,
          27,
          28,
          29,
          30,
          31,
          32,
          33,
          34,
          35,
          36,
          37,
          38,
          39,
          40,
          41,
          42,
          43,
          44,
          45,
          46,
          47,
          48,
          49,
          50,
          51,
          52,
          53,
          54,
          55,
          56,
          57,
          58,
          59,
          60,
          61,
          62,
          63,
          64,
          65,
          66,
          67,
          68,
          69,
          70,
          71,
          72,
          73,
          74,
          75,
          76,
          77,
          78,
          79,
          80,
          81,
          82,
          83,
          84,
          85,
          86,
          87,
          88,
          89,
          210,
          211,
          212,
          213,
          214,
          215,
          216,
          217,
          218,
          219,
          220,
          221,
          222,
          223,
          224,
          225,
          226,
          227,
          228,
          229,
          230,
          231,
          232,
          233,
          234,
          235,
          236,
          237,
          238,
          239,
          240,
          241,
          242,
          243,
          244,
          245,
          246,
          247,
          248,
          249
         ],
         "xaxis": "x2",
         "y": [
          0.09614,
          0.09913,
          0.10237,
          0.10311,
          0.11239,
          0.1098,
          0.10331,
          0.06952,
          0.05609,
          0.06142,
          0.06537000000000001,
          0.06595000000000001,
          0.08854000000000001,
          0.12608,
          0.1497,
          0.17441,
          0.23703,
          0.2581,
          0.24687,
          0.22455,
          0.18707,
          0.20144,
          0.26312,
          0.25335,
          0.26135,
          0.2737,
          0.32937,
          0.38977,
          0.41195,
          0.34088,
          0.25821,
          0.19244,
          0.15956,
          0.13682,
          0.12196,
          0.10901000000000001,
          0.10472,
          0.10595,
          0.12057999999999999,
          0.15512,
          0.26556,
          0.30482,
          0.27581,
          0.26202,
          0.26831,
          0.30912,
          0.36743000000000003,
          0.3599,
          0.39882999999999996,
          0.38833999999999996,
          0.39274000000000003,
          0.41729,
          0.41527,
          0.35712,
          0.2554,
          0.26245999999999997,
          0.18996000000000002,
          0.13557,
          0.12445,
          0.13211,
          0.14385,
          0.15834,
          0.16756000000000001,
          0.16838,
          0.18821000000000002,
          0.17243,
          0.15127000000000002,
          0.16136,
          0.16418000000000002,
          0.17178,
          0.18122,
          0.16984,
          0.16194999999999998,
          0.14683000000000002,
          0.14973,
          0.1638,
          0.16443000000000002,
          0.16032,
          0.10025,
          0.10065,
          0.1179,
          0.09206,
          0.07697,
          0.10118,
          0.09731000000000001,
          0.10809999999999999,
          0.15255000000000002,
          0.192,
          0.21794,
          0.18255000000000002,
          0.1799,
          0.20373,
          0.20343,
          0.15547999999999998,
          0.16884,
          0.2086,
          0.19555,
          0.18122,
          0.21367,
          0.25677,
          0.26327,
          0.18863999999999997,
          0.13243000000000002,
          0.10325,
          0.09620000000000001,
          0.07468999999999999,
          0.07289,
          0.07456,
          0.07199,
          0.07158,
          0.08103,
          0.14123,
          0.29219,
          0.40023000000000003,
          0.36484,
          0.29497,
          0.24355000000000002,
          0.18597999999999998,
          0.15546000000000001,
          0.12287999999999999,
          0.09215999999999999,
          0.04523,
          0.0422,
          0.04188,
          0.04186,
          0.04284,
          0.04308,
          0.04818,
          0.04696,
          0.04623
         ],
         "yaxis": "y2"
        },
        {
         "hovertemplate": "color=Starting<br>x=%{x}<br>y=%{y}<extra></extra>",
         "legendgroup": "Starting",
         "marker": {
          "color": "green",
          "symbol": "circle"
         },
         "mode": "markers",
         "name": "Starting",
         "orientation": "v",
         "showlegend": true,
         "type": "scatter",
         "x": [
          90,
          91,
          92,
          93,
          94,
          95,
          96,
          97,
          98,
          99,
          100,
          101,
          102,
          103,
          104,
          105,
          106,
          107,
          108
         ],
         "xaxis": "x2",
         "y": [
          0.13383,
          0.10402,
          0.08979999999999999,
          0.08062000000000001,
          0.07978,
          0.08471,
          0.07579999999999999,
          0.07732,
          0.08188,
          0.1033,
          0.13712,
          0.13616,
          0.07866,
          0.05189,
          0.05347,
          0.05305,
          0.05223,
          0.049409999999999996,
          0.046799999999999994
         ],
         "yaxis": "y2"
        },
        {
         "hovertemplate": "color=Startup finished<br>x=%{x}<br>y=%{y}<extra></extra>",
         "legendgroup": "Startup finished",
         "marker": {
          "color": "lime",
          "symbol": "circle"
         },
         "mode": "markers",
         "name": "Startup finished",
         "orientation": "v",
         "showlegend": true,
         "type": "scatter",
         "x": [
          109
         ],
         "xaxis": "x2",
         "y": [
          0.05983
         ],
         "yaxis": "y2"
        },
        {
         "hovertemplate": "color=Work<br>x=%{x}<br>y=%{y}<extra></extra>",
         "legendgroup": "Work",
         "marker": {
          "color": "red",
          "symbol": "circle"
         },
         "mode": "markers",
         "name": "Work",
         "orientation": "v",
         "showlegend": true,
         "type": "scatter",
         "x": [
          110,
          111,
          112,
          113,
          114,
          115,
          116,
          117,
          118,
          119,
          120,
          121,
          122,
          123,
          124,
          125,
          126,
          127,
          128,
          129,
          130,
          131,
          132,
          133,
          134,
          135,
          136,
          137,
          138,
          139,
          140,
          141,
          142,
          143,
          144,
          145,
          146,
          147,
          148,
          149,
          150,
          151,
          152,
          153,
          154,
          155,
          156,
          157,
          158,
          159,
          160,
          161,
          162,
          163,
          164,
          165,
          166,
          167,
          168,
          169,
          170,
          171,
          172,
          173,
          174,
          175,
          176,
          177,
          178,
          179,
          180,
          181,
          182,
          183,
          184,
          185,
          186,
          187,
          188,
          189,
          190,
          191,
          192,
          193,
          194,
          195,
          196,
          197,
          198,
          199,
          200,
          201,
          202,
          203,
          204,
          205,
          206,
          207,
          208,
          209
         ],
         "xaxis": "x2",
         "y": [
          0.08463,
          0.13605,
          0.18647999999999998,
          0.20777,
          0.2084,
          0.19390000000000002,
          0.17522,
          0.15641999999999998,
          0.12582,
          0.11761,
          0.10803,
          0.10267,
          0.11938,
          0.17754,
          0.28026999999999996,
          0.2475,
          0.14474,
          0.11142,
          0.10976000000000001,
          0.09698000000000001,
          0.07737000000000001,
          0.07553,
          0.07664,
          0.06776,
          0.10016,
          0.18600999999999998,
          0.26899,
          0.33171,
          0.33535000000000004,
          0.32683,
          0.3579,
          0.38039,
          0.36033,
          0.32377999999999996,
          0.30913,
          0.25562,
          0.2515,
          0.32282,
          0.34422,
          0.26673,
          0.2211,
          0.1679,
          0.11272,
          0.08409,
          0.06835,
          0.06675,
          0.06397,
          0.06477,
          0.07124,
          0.07186,
          0.09581999999999999,
          0.12286,
          0.12012,
          0.09972,
          0.07795999999999999,
          0.07740999999999999,
          0.07503,
          0.0358,
          0.03726,
          0.038299999999999994,
          0.039490000000000004,
          0.03661,
          0.03667,
          0.03961,
          0.041229999999999996,
          0.03943,
          0.04004,
          0.0427,
          0.0432,
          0.04518,
          0.048,
          0.04725,
          0.048909999999999995,
          0.045899999999999996,
          0.06007,
          0.06412999999999999,
          0.05441,
          0.039259999999999996,
          0.04217,
          0.04621,
          0.04352,
          0.03849,
          0.03764,
          0.0375,
          0.03731,
          0.046740000000000004,
          0.04854,
          0.05439,
          0.055920000000000004,
          0.0572,
          0.05894,
          0.056530000000000004,
          0.05941,
          0.059,
          0.06039,
          0.05995,
          0.05645,
          0.04813,
          0.09411,
          0.14878
         ],
         "yaxis": "y2"
        }
       ],
       "layout": {
        "height": 500,
        "legend": {
         "x": 0.01,
         "xanchor": "left",
         "y": 0.97,
         "yanchor": "top"
        },
        "margin": {
         "b": 10,
         "l": 10,
         "r": 10,
         "t": 10
        },
        "template": {
         "data": {
          "bar": [
           {
            "error_x": {
             "color": "#2a3f5f"
            },
            "error_y": {
             "color": "#2a3f5f"
            },
            "marker": {
             "line": {
              "color": "#E5ECF6",
              "width": 0.5
             },
             "pattern": {
              "fillmode": "overlay",
              "size": 10,
              "solidity": 0.2
             }
            },
            "type": "bar"
           }
          ],
          "barpolar": [
           {
            "marker": {
             "line": {
              "color": "#E5ECF6",
              "width": 0.5
             },
             "pattern": {
              "fillmode": "overlay",
              "size": 10,
              "solidity": 0.2
             }
            },
            "type": "barpolar"
           }
          ],
          "carpet": [
           {
            "aaxis": {
             "endlinecolor": "#2a3f5f",
             "gridcolor": "white",
             "linecolor": "white",
             "minorgridcolor": "white",
             "startlinecolor": "#2a3f5f"
            },
            "baxis": {
             "endlinecolor": "#2a3f5f",
             "gridcolor": "white",
             "linecolor": "white",
             "minorgridcolor": "white",
             "startlinecolor": "#2a3f5f"
            },
            "type": "carpet"
           }
          ],
          "choropleth": [
           {
            "colorbar": {
             "outlinewidth": 0,
             "ticks": ""
            },
            "type": "choropleth"
           }
          ],
          "contour": [
           {
            "colorbar": {
             "outlinewidth": 0,
             "ticks": ""
            },
            "colorscale": [
             [
              0,
              "#0d0887"
             ],
             [
              0.1111111111111111,
              "#46039f"
             ],
             [
              0.2222222222222222,
              "#7201a8"
             ],
             [
              0.3333333333333333,
              "#9c179e"
             ],
             [
              0.4444444444444444,
              "#bd3786"
             ],
             [
              0.5555555555555556,
              "#d8576b"
             ],
             [
              0.6666666666666666,
              "#ed7953"
             ],
             [
              0.7777777777777778,
              "#fb9f3a"
             ],
             [
              0.8888888888888888,
              "#fdca26"
             ],
             [
              1,
              "#f0f921"
             ]
            ],
            "type": "contour"
           }
          ],
          "contourcarpet": [
           {
            "colorbar": {
             "outlinewidth": 0,
             "ticks": ""
            },
            "type": "contourcarpet"
           }
          ],
          "heatmap": [
           {
            "colorbar": {
             "outlinewidth": 0,
             "ticks": ""
            },
            "colorscale": [
             [
              0,
              "#0d0887"
             ],
             [
              0.1111111111111111,
              "#46039f"
             ],
             [
              0.2222222222222222,
              "#7201a8"
             ],
             [
              0.3333333333333333,
              "#9c179e"
             ],
             [
              0.4444444444444444,
              "#bd3786"
             ],
             [
              0.5555555555555556,
              "#d8576b"
             ],
             [
              0.6666666666666666,
              "#ed7953"
             ],
             [
              0.7777777777777778,
              "#fb9f3a"
             ],
             [
              0.8888888888888888,
              "#fdca26"
             ],
             [
              1,
              "#f0f921"
             ]
            ],
            "type": "heatmap"
           }
          ],
          "heatmapgl": [
           {
            "colorbar": {
             "outlinewidth": 0,
             "ticks": ""
            },
            "colorscale": [
             [
              0,
              "#0d0887"
             ],
             [
              0.1111111111111111,
              "#46039f"
             ],
             [
              0.2222222222222222,
              "#7201a8"
             ],
             [
              0.3333333333333333,
              "#9c179e"
             ],
             [
              0.4444444444444444,
              "#bd3786"
             ],
             [
              0.5555555555555556,
              "#d8576b"
             ],
             [
              0.6666666666666666,
              "#ed7953"
             ],
             [
              0.7777777777777778,
              "#fb9f3a"
             ],
             [
              0.8888888888888888,
              "#fdca26"
             ],
             [
              1,
              "#f0f921"
             ]
            ],
            "type": "heatmapgl"
           }
          ],
          "histogram": [
           {
            "marker": {
             "pattern": {
              "fillmode": "overlay",
              "size": 10,
              "solidity": 0.2
             }
            },
            "type": "histogram"
           }
          ],
          "histogram2d": [
           {
            "colorbar": {
             "outlinewidth": 0,
             "ticks": ""
            },
            "colorscale": [
             [
              0,
              "#0d0887"
             ],
             [
              0.1111111111111111,
              "#46039f"
             ],
             [
              0.2222222222222222,
              "#7201a8"
             ],
             [
              0.3333333333333333,
              "#9c179e"
             ],
             [
              0.4444444444444444,
              "#bd3786"
             ],
             [
              0.5555555555555556,
              "#d8576b"
             ],
             [
              0.6666666666666666,
              "#ed7953"
             ],
             [
              0.7777777777777778,
              "#fb9f3a"
             ],
             [
              0.8888888888888888,
              "#fdca26"
             ],
             [
              1,
              "#f0f921"
             ]
            ],
            "type": "histogram2d"
           }
          ],
          "histogram2dcontour": [
           {
            "colorbar": {
             "outlinewidth": 0,
             "ticks": ""
            },
            "colorscale": [
             [
              0,
              "#0d0887"
             ],
             [
              0.1111111111111111,
              "#46039f"
             ],
             [
              0.2222222222222222,
              "#7201a8"
             ],
             [
              0.3333333333333333,
              "#9c179e"
             ],
             [
              0.4444444444444444,
              "#bd3786"
             ],
             [
              0.5555555555555556,
              "#d8576b"
             ],
             [
              0.6666666666666666,
              "#ed7953"
             ],
             [
              0.7777777777777778,
              "#fb9f3a"
             ],
             [
              0.8888888888888888,
              "#fdca26"
             ],
             [
              1,
              "#f0f921"
             ]
            ],
            "type": "histogram2dcontour"
           }
          ],
          "mesh3d": [
           {
            "colorbar": {
             "outlinewidth": 0,
             "ticks": ""
            },
            "type": "mesh3d"
           }
          ],
          "parcoords": [
           {
            "line": {
             "colorbar": {
              "outlinewidth": 0,
              "ticks": ""
             }
            },
            "type": "parcoords"
           }
          ],
          "pie": [
           {
            "automargin": true,
            "type": "pie"
           }
          ],
          "scatter": [
           {
            "fillpattern": {
             "fillmode": "overlay",
             "size": 10,
             "solidity": 0.2
            },
            "type": "scatter"
           }
          ],
          "scatter3d": [
           {
            "line": {
             "colorbar": {
              "outlinewidth": 0,
              "ticks": ""
             }
            },
            "marker": {
             "colorbar": {
              "outlinewidth": 0,
              "ticks": ""
             }
            },
            "type": "scatter3d"
           }
          ],
          "scattercarpet": [
           {
            "marker": {
             "colorbar": {
              "outlinewidth": 0,
              "ticks": ""
             }
            },
            "type": "scattercarpet"
           }
          ],
          "scattergeo": [
           {
            "marker": {
             "colorbar": {
              "outlinewidth": 0,
              "ticks": ""
             }
            },
            "type": "scattergeo"
           }
          ],
          "scattergl": [
           {
            "marker": {
             "colorbar": {
              "outlinewidth": 0,
              "ticks": ""
             }
            },
            "type": "scattergl"
           }
          ],
          "scattermapbox": [
           {
            "marker": {
             "colorbar": {
              "outlinewidth": 0,
              "ticks": ""
             }
            },
            "type": "scattermapbox"
           }
          ],
          "scatterpolar": [
           {
            "marker": {
             "colorbar": {
              "outlinewidth": 0,
              "ticks": ""
             }
            },
            "type": "scatterpolar"
           }
          ],
          "scatterpolargl": [
           {
            "marker": {
             "colorbar": {
              "outlinewidth": 0,
              "ticks": ""
             }
            },
            "type": "scatterpolargl"
           }
          ],
          "scatterternary": [
           {
            "marker": {
             "colorbar": {
              "outlinewidth": 0,
              "ticks": ""
             }
            },
            "type": "scatterternary"
           }
          ],
          "surface": [
           {
            "colorbar": {
             "outlinewidth": 0,
             "ticks": ""
            },
            "colorscale": [
             [
              0,
              "#0d0887"
             ],
             [
              0.1111111111111111,
              "#46039f"
             ],
             [
              0.2222222222222222,
              "#7201a8"
             ],
             [
              0.3333333333333333,
              "#9c179e"
             ],
             [
              0.4444444444444444,
              "#bd3786"
             ],
             [
              0.5555555555555556,
              "#d8576b"
             ],
             [
              0.6666666666666666,
              "#ed7953"
             ],
             [
              0.7777777777777778,
              "#fb9f3a"
             ],
             [
              0.8888888888888888,
              "#fdca26"
             ],
             [
              1,
              "#f0f921"
             ]
            ],
            "type": "surface"
           }
          ],
          "table": [
           {
            "cells": {
             "fill": {
              "color": "#EBF0F8"
             },
             "line": {
              "color": "white"
             }
            },
            "header": {
             "fill": {
              "color": "#C8D4E3"
             },
             "line": {
              "color": "white"
             }
            },
            "type": "table"
           }
          ]
         },
         "layout": {
          "annotationdefaults": {
           "arrowcolor": "#2a3f5f",
           "arrowhead": 0,
           "arrowwidth": 1
          },
          "autotypenumbers": "strict",
          "coloraxis": {
           "colorbar": {
            "outlinewidth": 0,
            "ticks": ""
           }
          },
          "colorscale": {
           "diverging": [
            [
             0,
             "#8e0152"
            ],
            [
             0.1,
             "#c51b7d"
            ],
            [
             0.2,
             "#de77ae"
            ],
            [
             0.3,
             "#f1b6da"
            ],
            [
             0.4,
             "#fde0ef"
            ],
            [
             0.5,
             "#f7f7f7"
            ],
            [
             0.6,
             "#e6f5d0"
            ],
            [
             0.7,
             "#b8e186"
            ],
            [
             0.8,
             "#7fbc41"
            ],
            [
             0.9,
             "#4d9221"
            ],
            [
             1,
             "#276419"
            ]
           ],
           "sequential": [
            [
             0,
             "#0d0887"
            ],
            [
             0.1111111111111111,
             "#46039f"
            ],
            [
             0.2222222222222222,
             "#7201a8"
            ],
            [
             0.3333333333333333,
             "#9c179e"
            ],
            [
             0.4444444444444444,
             "#bd3786"
            ],
            [
             0.5555555555555556,
             "#d8576b"
            ],
            [
             0.6666666666666666,
             "#ed7953"
            ],
            [
             0.7777777777777778,
             "#fb9f3a"
            ],
            [
             0.8888888888888888,
             "#fdca26"
            ],
            [
             1,
             "#f0f921"
            ]
           ],
           "sequentialminus": [
            [
             0,
             "#0d0887"
            ],
            [
             0.1111111111111111,
             "#46039f"
            ],
            [
             0.2222222222222222,
             "#7201a8"
            ],
            [
             0.3333333333333333,
             "#9c179e"
            ],
            [
             0.4444444444444444,
             "#bd3786"
            ],
            [
             0.5555555555555556,
             "#d8576b"
            ],
            [
             0.6666666666666666,
             "#ed7953"
            ],
            [
             0.7777777777777778,
             "#fb9f3a"
            ],
            [
             0.8888888888888888,
             "#fdca26"
            ],
            [
             1,
             "#f0f921"
            ]
           ]
          },
          "colorway": [
           "#636efa",
           "#EF553B",
           "#00cc96",
           "#ab63fa",
           "#FFA15A",
           "#19d3f3",
           "#FF6692",
           "#B6E880",
           "#FF97FF",
           "#FECB52"
          ],
          "font": {
           "color": "#2a3f5f"
          },
          "geo": {
           "bgcolor": "white",
           "lakecolor": "white",
           "landcolor": "#E5ECF6",
           "showlakes": true,
           "showland": true,
           "subunitcolor": "white"
          },
          "hoverlabel": {
           "align": "left"
          },
          "hovermode": "closest",
          "mapbox": {
           "style": "light"
          },
          "paper_bgcolor": "white",
          "plot_bgcolor": "#E5ECF6",
          "polar": {
           "angularaxis": {
            "gridcolor": "white",
            "linecolor": "white",
            "ticks": ""
           },
           "bgcolor": "#E5ECF6",
           "radialaxis": {
            "gridcolor": "white",
            "linecolor": "white",
            "ticks": ""
           }
          },
          "scene": {
           "xaxis": {
            "backgroundcolor": "#E5ECF6",
            "gridcolor": "white",
            "gridwidth": 2,
            "linecolor": "white",
            "showbackground": true,
            "ticks": "",
            "zerolinecolor": "white"
           },
           "yaxis": {
            "backgroundcolor": "#E5ECF6",
            "gridcolor": "white",
            "gridwidth": 2,
            "linecolor": "white",
            "showbackground": true,
            "ticks": "",
            "zerolinecolor": "white"
           },
           "zaxis": {
            "backgroundcolor": "#E5ECF6",
            "gridcolor": "white",
            "gridwidth": 2,
            "linecolor": "white",
            "showbackground": true,
            "ticks": "",
            "zerolinecolor": "white"
           }
          },
          "shapedefaults": {
           "line": {
            "color": "#2a3f5f"
           }
          },
          "ternary": {
           "aaxis": {
            "gridcolor": "white",
            "linecolor": "white",
            "ticks": ""
           },
           "baxis": {
            "gridcolor": "white",
            "linecolor": "white",
            "ticks": ""
           },
           "bgcolor": "#E5ECF6",
           "caxis": {
            "gridcolor": "white",
            "linecolor": "white",
            "ticks": ""
           }
          },
          "title": {
           "x": 0.05
          },
          "xaxis": {
           "automargin": true,
           "gridcolor": "white",
           "linecolor": "white",
           "ticks": "",
           "title": {
            "standoff": 15
           },
           "zerolinecolor": "white",
           "zerolinewidth": 2
          },
          "yaxis": {
           "automargin": true,
           "gridcolor": "white",
           "linecolor": "white",
           "ticks": "",
           "title": {
            "standoff": 15
           },
           "zerolinecolor": "white",
           "zerolinewidth": 2
          }
         }
        },
        "width": 1020,
        "xaxis": {
         "anchor": "y",
         "domain": [
          0,
          1
         ],
         "matches": "x2",
         "showticklabels": false
        },
        "xaxis2": {
         "anchor": "y2",
         "domain": [
          0,
          1
         ],
         "title": {
          "text": "Time slots"
         }
        },
        "yaxis": {
         "anchor": "x",
         "domain": [
          0.525,
          1
         ],
         "title": {
          "text": "Progress"
         }
        },
        "yaxis2": {
         "anchor": "x2",
         "domain": [
          0,
          0.475
         ],
         "title": {
          "text": "Carbon intensity in kgCO2/kWh"
         }
        }
       }
      }
     },
     "metadata": {},
     "output_type": "display_data"
    },
    {
     "name": "stdout",
     "output_type": "stream",
     "text": [
      "72, 81, Start Python0\n",
      "149, 158, Start Python0\n",
      "82, 91, Download Data1\n",
      "159, 168, Download Data1\n",
      "92, 110, High2\n",
      "169, 199, High2\n",
      "200, 249, Low3\n"
     ]
    },
    {
     "data": {
      "application/vnd.plotly.v1+json": {
       "config": {
        "plotlyServerURL": "https://plot.ly"
       },
       "data": [
        {
         "marker": {
          "color": "green"
         },
         "mode": "markers",
         "showlegend": false,
         "type": "scatter",
         "x": [
          72,
          73,
          74,
          75,
          76,
          77,
          78,
          79,
          80,
          81,
          82,
          83,
          84,
          85,
          86,
          87,
          88,
          89,
          90,
          91,
          149,
          150,
          151,
          152,
          153,
          154,
          155,
          156,
          157,
          158,
          159,
          160,
          161,
          162,
          163,
          164,
          165,
          166,
          167,
          168
         ],
         "xaxis": "x",
         "y": [
          1,
          2,
          3,
          4,
          5,
          6,
          7,
          8,
          9,
          10,
          11,
          12,
          13,
          14,
          15,
          16,
          17,
          18,
          19,
          20,
          1,
          2,
          3,
          4,
          5,
          6,
          7,
          8,
          9,
          10,
          11,
          12,
          13,
          14,
          15,
          16,
          17,
          18,
          19,
          20
         ],
         "yaxis": "y"
        },
        {
         "marker": {
          "color": "red"
         },
         "mode": "markers",
         "showlegend": false,
         "type": "scatter",
         "x": [
          92,
          93,
          94,
          95,
          96,
          97,
          98,
          99,
          100,
          101,
          102,
          103,
          104,
          105,
          106,
          107,
          108,
          109,
          110,
          111,
          112,
          113,
          114,
          115,
          116,
          117,
          118,
          119,
          120,
          121,
          122,
          123,
          124,
          125,
          126,
          127,
          128,
          129,
          130,
          131,
          132,
          133,
          134,
          135,
          136,
          137,
          138,
          139,
          140,
          141,
          142,
          143,
          144,
          145,
          146,
          147,
          148,
          149,
          150,
          151,
          152,
          153,
          154,
          155,
          156,
          157,
          158,
          159,
          160,
          161,
          162,
          163,
          164,
          165,
          166,
          167,
          168,
          169,
          170,
          171,
          172,
          173,
          174,
          175,
          176,
          177,
          178,
          179,
          180,
          181,
          182,
          183,
          184,
          185,
          186,
          187,
          188,
          189,
          190,
          191,
          192,
          193,
          194,
          195,
          196,
          197,
          198,
          199,
          200,
          201,
          202,
          203,
          204,
          205,
          206,
          207,
          208,
          209,
          210,
          211,
          212,
          213,
          214,
          215,
          216,
          217,
          218,
          219,
          220,
          221,
          222,
          223,
          224,
          225,
          226,
          227,
          228,
          229,
          230,
          231,
          232,
          233,
          234,
          235,
          236,
          237,
          238,
          239,
          240,
          241,
          242,
          243,
          244,
          245,
          246,
          247,
          248,
          249
         ],
         "xaxis": "x",
         "y": [
          1,
          2,
          3,
          4,
          5,
          6,
          7,
          8,
          9,
          10,
          11,
          12,
          13,
          14,
          15,
          16,
          17,
          18,
          19,
          19,
          19,
          19,
          19,
          19,
          19,
          19,
          19,
          19,
          19,
          19,
          19,
          19,
          19,
          19,
          19,
          19,
          19,
          19,
          19,
          19,
          19,
          19,
          19,
          19,
          19,
          19,
          19,
          19,
          19,
          19,
          19,
          19,
          19,
          19,
          19,
          19,
          19,
          19,
          19,
          19,
          19,
          19,
          19,
          19,
          19,
          19,
          19,
          19,
          19,
          19,
          19,
          19,
          19,
          19,
          19,
          19,
          19,
          20,
          21,
          22,
          23,
          24,
          25,
          26,
          27,
          28,
          29,
          30,
          31,
          32,
          33,
          34,
          35,
          36,
          37,
          38,
          39,
          40,
          41,
          42,
          43,
          44,
          45,
          46,
          47,
          48,
          49,
          50,
          51,
          52,
          53,
          54,
          55,
          56,
          57,
          58,
          59,
          60,
          61,
          62,
          63,
          64,
          65,
          66,
          67,
          68,
          69,
          70,
          71,
          72,
          73,
          74,
          75,
          76,
          77,
          78,
          79,
          80,
          81,
          82,
          83,
          84,
          85,
          86,
          87,
          88,
          89,
          90,
          91,
          92,
          93,
          94,
          95,
          96,
          97,
          98,
          99,
          100
         ],
         "yaxis": "y"
        },
        {
         "line": {
          "color": "black",
          "width": 2
         },
         "mode": "lines",
         "showlegend": false,
         "type": "scatter",
         "x": [
          0,
          1,
          2,
          3,
          4,
          5,
          6,
          7,
          8,
          9,
          10,
          11,
          12,
          13,
          14,
          15,
          16,
          17,
          18,
          19,
          20,
          21,
          22,
          23,
          24,
          25,
          26,
          27,
          28,
          29,
          30,
          31,
          32,
          33,
          34,
          35,
          36,
          37,
          38,
          39,
          40,
          41,
          42,
          43,
          44,
          45,
          46,
          47,
          48,
          49,
          50,
          51,
          52,
          53,
          54,
          55,
          56,
          57,
          58,
          59,
          60,
          61,
          62,
          63,
          64,
          65,
          66,
          67,
          68,
          69,
          70,
          71,
          72,
          73,
          74,
          75,
          76,
          77,
          78,
          79,
          80,
          81,
          82,
          83,
          84,
          85,
          86,
          87,
          88,
          89,
          90,
          91,
          92,
          93,
          94,
          95,
          96,
          97,
          98,
          99,
          100,
          101,
          102,
          103,
          104,
          105,
          106,
          107,
          108,
          109,
          110,
          111,
          112,
          113,
          114,
          115,
          116,
          117,
          118,
          119,
          120,
          121,
          122,
          123,
          124,
          125,
          126,
          127,
          128,
          129,
          130,
          131,
          132,
          133,
          134,
          135,
          136,
          137,
          138,
          139,
          140,
          141,
          142,
          143,
          144,
          145,
          146,
          147,
          148,
          149,
          150,
          151,
          152,
          153,
          154,
          155,
          156,
          157,
          158,
          159,
          160,
          161,
          162,
          163,
          164,
          165,
          166,
          167,
          168,
          169,
          170,
          171,
          172,
          173,
          174,
          175,
          176,
          177,
          178,
          179,
          180,
          181,
          182,
          183,
          184,
          185,
          186,
          187,
          188,
          189,
          190,
          191,
          192,
          193,
          194,
          195,
          196,
          197,
          198,
          199,
          200,
          201,
          202,
          203,
          204,
          205,
          206,
          207,
          208,
          209,
          210,
          211,
          212,
          213,
          214,
          215,
          216,
          217,
          218,
          219,
          220,
          221,
          222,
          223,
          224,
          225,
          226,
          227,
          228,
          229,
          230,
          231,
          232,
          233,
          234,
          235,
          236,
          237,
          238,
          239,
          240,
          241,
          242,
          243,
          244,
          245,
          246,
          247,
          248,
          249
         ],
         "xaxis": "x2",
         "y": [
          0.09614,
          0.09913,
          0.10237,
          0.10311,
          0.11239,
          0.1098,
          0.10331,
          0.06952,
          0.05609,
          0.06142,
          0.06537000000000001,
          0.06595000000000001,
          0.08854000000000001,
          0.12608,
          0.1497,
          0.17441,
          0.23703,
          0.2581,
          0.24687,
          0.22455,
          0.18707,
          0.20144,
          0.26312,
          0.25335,
          0.26135,
          0.2737,
          0.32937,
          0.38977,
          0.41195,
          0.34088,
          0.25821,
          0.19244,
          0.15956,
          0.13682,
          0.12196,
          0.10901000000000001,
          0.10472,
          0.10595,
          0.12057999999999999,
          0.15512,
          0.26556,
          0.30482,
          0.27581,
          0.26202,
          0.26831,
          0.30912,
          0.36743000000000003,
          0.3599,
          0.39882999999999996,
          0.38833999999999996,
          0.39274000000000003,
          0.41729,
          0.41527,
          0.35712,
          0.2554,
          0.26245999999999997,
          0.18996000000000002,
          0.13557,
          0.12445,
          0.13211,
          0.14385,
          0.15834,
          0.16756000000000001,
          0.16838,
          0.18821000000000002,
          0.17243,
          0.15127000000000002,
          0.16136,
          0.16418000000000002,
          0.17178,
          0.18122,
          0.16984,
          0.16194999999999998,
          0.14683000000000002,
          0.14973,
          0.1638,
          0.16443000000000002,
          0.16032,
          0.10025,
          0.10065,
          0.1179,
          0.09206,
          0.07697,
          0.10118,
          0.09731000000000001,
          0.10809999999999999,
          0.15255000000000002,
          0.192,
          0.21794,
          0.18255000000000002,
          0.13383,
          0.10402,
          0.08979999999999999,
          0.08062000000000001,
          0.07978,
          0.08471,
          0.07579999999999999,
          0.07732,
          0.08188,
          0.1033,
          0.13712,
          0.13616,
          0.07866,
          0.05189,
          0.05347,
          0.05305,
          0.05223,
          0.049409999999999996,
          0.046799999999999994,
          0.05983,
          0.08463,
          0.13605,
          0.18647999999999998,
          0.20777,
          0.2084,
          0.19390000000000002,
          0.17522,
          0.15641999999999998,
          0.12582,
          0.11761,
          0.10803,
          0.10267,
          0.11938,
          0.17754,
          0.28026999999999996,
          0.2475,
          0.14474,
          0.11142,
          0.10976000000000001,
          0.09698000000000001,
          0.07737000000000001,
          0.07553,
          0.07664,
          0.06776,
          0.10016,
          0.18600999999999998,
          0.26899,
          0.33171,
          0.33535000000000004,
          0.32683,
          0.3579,
          0.38039,
          0.36033,
          0.32377999999999996,
          0.30913,
          0.25562,
          0.2515,
          0.32282,
          0.34422,
          0.26673,
          0.2211,
          0.1679,
          0.11272,
          0.08409,
          0.06835,
          0.06675,
          0.06397,
          0.06477,
          0.07124,
          0.07186,
          0.09581999999999999,
          0.12286,
          0.12012,
          0.09972,
          0.07795999999999999,
          0.07740999999999999,
          0.07503,
          0.0358,
          0.03726,
          0.038299999999999994,
          0.039490000000000004,
          0.03661,
          0.03667,
          0.03961,
          0.041229999999999996,
          0.03943,
          0.04004,
          0.0427,
          0.0432,
          0.04518,
          0.048,
          0.04725,
          0.048909999999999995,
          0.045899999999999996,
          0.06007,
          0.06412999999999999,
          0.05441,
          0.039259999999999996,
          0.04217,
          0.04621,
          0.04352,
          0.03849,
          0.03764,
          0.0375,
          0.03731,
          0.046740000000000004,
          0.04854,
          0.05439,
          0.055920000000000004,
          0.0572,
          0.05894,
          0.056530000000000004,
          0.05941,
          0.059,
          0.06039,
          0.05995,
          0.05645,
          0.04813,
          0.09411,
          0.14878,
          0.1799,
          0.20373,
          0.20343,
          0.15547999999999998,
          0.16884,
          0.2086,
          0.19555,
          0.18122,
          0.21367,
          0.25677,
          0.26327,
          0.18863999999999997,
          0.13243000000000002,
          0.10325,
          0.09620000000000001,
          0.07468999999999999,
          0.07289,
          0.07456,
          0.07199,
          0.07158,
          0.08103,
          0.14123,
          0.29219,
          0.40023000000000003,
          0.36484,
          0.29497,
          0.24355000000000002,
          0.18597999999999998,
          0.15546000000000001,
          0.12287999999999999,
          0.09215999999999999,
          0.04523,
          0.0422,
          0.04188,
          0.04186,
          0.04284,
          0.04308,
          0.04818,
          0.04696,
          0.04623
         ],
         "yaxis": "y2"
        },
        {
         "hovertemplate": "color=Idle<br>x=%{x}<br>y=%{y}<extra></extra>",
         "legendgroup": "Idle",
         "marker": {
          "color": "black",
          "symbol": "circle"
         },
         "mode": "markers",
         "name": "Idle",
         "orientation": "v",
         "showlegend": true,
         "type": "scatter",
         "x": [
          0,
          1,
          2,
          3,
          4,
          5,
          6,
          7,
          8,
          9,
          10,
          11,
          12,
          13,
          14,
          15,
          16,
          17,
          18,
          19,
          20,
          21,
          22,
          23,
          24,
          25,
          26,
          27,
          28,
          29,
          30,
          31,
          32,
          33,
          34,
          35,
          36,
          37,
          38,
          39,
          40,
          41,
          42,
          43,
          44,
          45,
          46,
          47,
          48,
          49,
          50,
          51,
          52,
          53,
          54,
          55,
          56,
          57,
          58,
          59,
          60,
          61,
          62,
          63,
          64,
          65,
          66,
          67,
          68,
          69,
          70,
          71,
          111,
          112,
          113,
          114,
          115,
          116,
          117,
          118,
          119,
          120,
          121,
          122,
          123,
          124,
          125,
          126,
          127,
          128,
          129,
          130,
          131,
          132,
          133,
          134,
          135,
          136,
          137,
          138,
          139,
          140,
          141,
          142,
          143,
          144,
          145,
          146,
          147,
          148
         ],
         "xaxis": "x2",
         "y": [
          0.09614,
          0.09913,
          0.10237,
          0.10311,
          0.11239,
          0.1098,
          0.10331,
          0.06952,
          0.05609,
          0.06142,
          0.06537000000000001,
          0.06595000000000001,
          0.08854000000000001,
          0.12608,
          0.1497,
          0.17441,
          0.23703,
          0.2581,
          0.24687,
          0.22455,
          0.18707,
          0.20144,
          0.26312,
          0.25335,
          0.26135,
          0.2737,
          0.32937,
          0.38977,
          0.41195,
          0.34088,
          0.25821,
          0.19244,
          0.15956,
          0.13682,
          0.12196,
          0.10901000000000001,
          0.10472,
          0.10595,
          0.12057999999999999,
          0.15512,
          0.26556,
          0.30482,
          0.27581,
          0.26202,
          0.26831,
          0.30912,
          0.36743000000000003,
          0.3599,
          0.39882999999999996,
          0.38833999999999996,
          0.39274000000000003,
          0.41729,
          0.41527,
          0.35712,
          0.2554,
          0.26245999999999997,
          0.18996000000000002,
          0.13557,
          0.12445,
          0.13211,
          0.14385,
          0.15834,
          0.16756000000000001,
          0.16838,
          0.18821000000000002,
          0.17243,
          0.15127000000000002,
          0.16136,
          0.16418000000000002,
          0.17178,
          0.18122,
          0.16984,
          0.13605,
          0.18647999999999998,
          0.20777,
          0.2084,
          0.19390000000000002,
          0.17522,
          0.15641999999999998,
          0.12582,
          0.11761,
          0.10803,
          0.10267,
          0.11938,
          0.17754,
          0.28026999999999996,
          0.2475,
          0.14474,
          0.11142,
          0.10976000000000001,
          0.09698000000000001,
          0.07737000000000001,
          0.07553,
          0.07664,
          0.06776,
          0.10016,
          0.18600999999999998,
          0.26899,
          0.33171,
          0.33535000000000004,
          0.32683,
          0.3579,
          0.38039,
          0.36033,
          0.32377999999999996,
          0.30913,
          0.25562,
          0.2515,
          0.32282,
          0.34422
         ],
         "yaxis": "y2"
        },
        {
         "hovertemplate": "color=Starting<br>x=%{x}<br>y=%{y}<extra></extra>",
         "legendgroup": "Starting",
         "marker": {
          "color": "green",
          "symbol": "circle"
         },
         "mode": "markers",
         "name": "Starting",
         "orientation": "v",
         "showlegend": true,
         "type": "scatter",
         "x": [
          72,
          73,
          74,
          75,
          76,
          77,
          78,
          79,
          80,
          81,
          82,
          83,
          84,
          85,
          86,
          87,
          88,
          89,
          90,
          149,
          150,
          151,
          152,
          153,
          154,
          155,
          156,
          157,
          158,
          159,
          160,
          161,
          162,
          163,
          164,
          165,
          166,
          167
         ],
         "xaxis": "x2",
         "y": [
          0.16194999999999998,
          0.14683000000000002,
          0.14973,
          0.1638,
          0.16443000000000002,
          0.16032,
          0.10025,
          0.10065,
          0.1179,
          0.09206,
          0.07697,
          0.10118,
          0.09731000000000001,
          0.10809999999999999,
          0.15255000000000002,
          0.192,
          0.21794,
          0.18255000000000002,
          0.13383,
          0.26673,
          0.2211,
          0.1679,
          0.11272,
          0.08409,
          0.06835,
          0.06675,
          0.06397,
          0.06477,
          0.07124,
          0.07186,
          0.09581999999999999,
          0.12286,
          0.12012,
          0.09972,
          0.07795999999999999,
          0.07740999999999999,
          0.07503,
          0.0358
         ],
         "yaxis": "y2"
        },
        {
         "hovertemplate": "color=Startup finished<br>x=%{x}<br>y=%{y}<extra></extra>",
         "legendgroup": "Startup finished",
         "marker": {
          "color": "lime",
          "symbol": "circle"
         },
         "mode": "markers",
         "name": "Startup finished",
         "orientation": "v",
         "showlegend": true,
         "type": "scatter",
         "x": [
          91,
          168
         ],
         "xaxis": "x2",
         "y": [
          0.10402,
          0.03726
         ],
         "yaxis": "y2"
        },
        {
         "hovertemplate": "color=Work<br>x=%{x}<br>y=%{y}<extra></extra>",
         "legendgroup": "Work",
         "marker": {
          "color": "red",
          "symbol": "circle"
         },
         "mode": "markers",
         "name": "Work",
         "orientation": "v",
         "showlegend": true,
         "type": "scatter",
         "x": [
          92,
          93,
          94,
          95,
          96,
          97,
          98,
          99,
          100,
          101,
          102,
          103,
          104,
          105,
          106,
          107,
          108,
          109,
          110,
          169,
          170,
          171,
          172,
          173,
          174,
          175,
          176,
          177,
          178,
          179,
          180,
          181,
          182,
          183,
          184,
          185,
          186,
          187,
          188,
          189,
          190,
          191,
          192,
          193,
          194,
          195,
          196,
          197,
          198,
          199,
          200,
          201,
          202,
          203,
          204,
          205,
          206,
          207,
          208,
          209,
          210,
          211,
          212,
          213,
          214,
          215,
          216,
          217,
          218,
          219,
          220,
          221,
          222,
          223,
          224,
          225,
          226,
          227,
          228,
          229,
          230,
          231,
          232,
          233,
          234,
          235,
          236,
          237,
          238,
          239,
          240,
          241,
          242,
          243,
          244,
          245,
          246,
          247,
          248,
          249
         ],
         "xaxis": "x2",
         "y": [
          0.08979999999999999,
          0.08062000000000001,
          0.07978,
          0.08471,
          0.07579999999999999,
          0.07732,
          0.08188,
          0.1033,
          0.13712,
          0.13616,
          0.07866,
          0.05189,
          0.05347,
          0.05305,
          0.05223,
          0.049409999999999996,
          0.046799999999999994,
          0.05983,
          0.08463,
          0.038299999999999994,
          0.039490000000000004,
          0.03661,
          0.03667,
          0.03961,
          0.041229999999999996,
          0.03943,
          0.04004,
          0.0427,
          0.0432,
          0.04518,
          0.048,
          0.04725,
          0.048909999999999995,
          0.045899999999999996,
          0.06007,
          0.06412999999999999,
          0.05441,
          0.039259999999999996,
          0.04217,
          0.04621,
          0.04352,
          0.03849,
          0.03764,
          0.0375,
          0.03731,
          0.046740000000000004,
          0.04854,
          0.05439,
          0.055920000000000004,
          0.0572,
          0.05894,
          0.056530000000000004,
          0.05941,
          0.059,
          0.06039,
          0.05995,
          0.05645,
          0.04813,
          0.09411,
          0.14878,
          0.1799,
          0.20373,
          0.20343,
          0.15547999999999998,
          0.16884,
          0.2086,
          0.19555,
          0.18122,
          0.21367,
          0.25677,
          0.26327,
          0.18863999999999997,
          0.13243000000000002,
          0.10325,
          0.09620000000000001,
          0.07468999999999999,
          0.07289,
          0.07456,
          0.07199,
          0.07158,
          0.08103,
          0.14123,
          0.29219,
          0.40023000000000003,
          0.36484,
          0.29497,
          0.24355000000000002,
          0.18597999999999998,
          0.15546000000000001,
          0.12287999999999999,
          0.09215999999999999,
          0.04523,
          0.0422,
          0.04188,
          0.04186,
          0.04284,
          0.04308,
          0.04818,
          0.04696,
          0.04623
         ],
         "yaxis": "y2"
        }
       ],
       "layout": {
        "legend": {
         "x": 0.01,
         "xanchor": "left",
         "y": 0.97,
         "yanchor": "top"
        },
        "margin": {
         "b": 10,
         "l": 10,
         "r": 10,
         "t": 10
        },
        "shapes": [
         {
          "fillcolor": "rgba(255, 0, 0, 0.2)",
          "label": {
           "text": "Start Python",
           "textangle": -90
          },
          "layer": "below",
          "line": {
           "color": "rgba(0, 0, 0, 0)"
          },
          "name": "Start Python0",
          "type": "rect",
          "x0": 72,
          "x1": 81,
          "xref": "x",
          "y0": 0,
          "y1": 100,
          "yref": "y"
         },
         {
          "fillcolor": "rgba(255, 0, 0, 0.2)",
          "label": {
           "text": "Start Python",
           "textangle": -90
          },
          "layer": "below",
          "line": {
           "color": "rgba(0, 0, 0, 0)"
          },
          "name": "Start Python0",
          "type": "rect",
          "x0": 149,
          "x1": 158,
          "xref": "x",
          "y0": 0,
          "y1": 100,
          "yref": "y"
         },
         {
          "fillcolor": "rgba(0, 255, 0, 0.2)",
          "label": {
           "text": "Download data",
           "textangle": -90
          },
          "layer": "below",
          "line": {
           "color": "rgba(0, 0, 0, 0)"
          },
          "name": "Download Data1",
          "type": "rect",
          "x0": 82,
          "x1": 91,
          "xref": "x",
          "y0": 0,
          "y1": 100,
          "yref": "y"
         },
         {
          "fillcolor": "rgba(0, 255, 0, 0.2)",
          "label": {
           "text": "Download data",
           "textangle": -90
          },
          "layer": "below",
          "line": {
           "color": "rgba(0, 0, 0, 0)"
          },
          "name": "Download Data1",
          "type": "rect",
          "x0": 159,
          "x1": 168,
          "xref": "x",
          "y0": 0,
          "y1": 100,
          "yref": "y"
         },
         {
          "fillcolor": "rgba(236, 39, 245, 0.2)",
          "label": {
           "text": "High power",
           "textangle": -90
          },
          "layer": "below",
          "line": {
           "color": "rgba(0, 0, 0, 0)"
          },
          "name": "High2",
          "type": "rect",
          "x0": 92,
          "x1": 110,
          "xref": "x",
          "y0": 0,
          "y1": 100,
          "yref": "y"
         },
         {
          "fillcolor": "rgba(236, 39, 245, 0.2)",
          "label": {
           "text": "High power",
           "textangle": -90
          },
          "layer": "below",
          "line": {
           "color": "rgba(0, 0, 0, 0)"
          },
          "name": "High2",
          "type": "rect",
          "x0": 169,
          "x1": 199,
          "xref": "x",
          "y0": 0,
          "y1": 100,
          "yref": "y"
         },
         {
          "fillcolor": "rgba(245, 172, 39, 0.2)",
          "label": {
           "text": "Low power",
           "textangle": -90
          },
          "layer": "below",
          "line": {
           "color": "rgba(0, 0, 0, 0)"
          },
          "name": "Low3",
          "type": "rect",
          "x0": 200,
          "x1": 249,
          "xref": "x",
          "y0": 0,
          "y1": 100,
          "yref": "y"
         }
        ],
        "template": {
         "data": {
          "bar": [
           {
            "error_x": {
             "color": "#2a3f5f"
            },
            "error_y": {
             "color": "#2a3f5f"
            },
            "marker": {
             "line": {
              "color": "#E5ECF6",
              "width": 0.5
             },
             "pattern": {
              "fillmode": "overlay",
              "size": 10,
              "solidity": 0.2
             }
            },
            "type": "bar"
           }
          ],
          "barpolar": [
           {
            "marker": {
             "line": {
              "color": "#E5ECF6",
              "width": 0.5
             },
             "pattern": {
              "fillmode": "overlay",
              "size": 10,
              "solidity": 0.2
             }
            },
            "type": "barpolar"
           }
          ],
          "carpet": [
           {
            "aaxis": {
             "endlinecolor": "#2a3f5f",
             "gridcolor": "white",
             "linecolor": "white",
             "minorgridcolor": "white",
             "startlinecolor": "#2a3f5f"
            },
            "baxis": {
             "endlinecolor": "#2a3f5f",
             "gridcolor": "white",
             "linecolor": "white",
             "minorgridcolor": "white",
             "startlinecolor": "#2a3f5f"
            },
            "type": "carpet"
           }
          ],
          "choropleth": [
           {
            "colorbar": {
             "outlinewidth": 0,
             "ticks": ""
            },
            "type": "choropleth"
           }
          ],
          "contour": [
           {
            "colorbar": {
             "outlinewidth": 0,
             "ticks": ""
            },
            "colorscale": [
             [
              0,
              "#0d0887"
             ],
             [
              0.1111111111111111,
              "#46039f"
             ],
             [
              0.2222222222222222,
              "#7201a8"
             ],
             [
              0.3333333333333333,
              "#9c179e"
             ],
             [
              0.4444444444444444,
              "#bd3786"
             ],
             [
              0.5555555555555556,
              "#d8576b"
             ],
             [
              0.6666666666666666,
              "#ed7953"
             ],
             [
              0.7777777777777778,
              "#fb9f3a"
             ],
             [
              0.8888888888888888,
              "#fdca26"
             ],
             [
              1,
              "#f0f921"
             ]
            ],
            "type": "contour"
           }
          ],
          "contourcarpet": [
           {
            "colorbar": {
             "outlinewidth": 0,
             "ticks": ""
            },
            "type": "contourcarpet"
           }
          ],
          "heatmap": [
           {
            "colorbar": {
             "outlinewidth": 0,
             "ticks": ""
            },
            "colorscale": [
             [
              0,
              "#0d0887"
             ],
             [
              0.1111111111111111,
              "#46039f"
             ],
             [
              0.2222222222222222,
              "#7201a8"
             ],
             [
              0.3333333333333333,
              "#9c179e"
             ],
             [
              0.4444444444444444,
              "#bd3786"
             ],
             [
              0.5555555555555556,
              "#d8576b"
             ],
             [
              0.6666666666666666,
              "#ed7953"
             ],
             [
              0.7777777777777778,
              "#fb9f3a"
             ],
             [
              0.8888888888888888,
              "#fdca26"
             ],
             [
              1,
              "#f0f921"
             ]
            ],
            "type": "heatmap"
           }
          ],
          "heatmapgl": [
           {
            "colorbar": {
             "outlinewidth": 0,
             "ticks": ""
            },
            "colorscale": [
             [
              0,
              "#0d0887"
             ],
             [
              0.1111111111111111,
              "#46039f"
             ],
             [
              0.2222222222222222,
              "#7201a8"
             ],
             [
              0.3333333333333333,
              "#9c179e"
             ],
             [
              0.4444444444444444,
              "#bd3786"
             ],
             [
              0.5555555555555556,
              "#d8576b"
             ],
             [
              0.6666666666666666,
              "#ed7953"
             ],
             [
              0.7777777777777778,
              "#fb9f3a"
             ],
             [
              0.8888888888888888,
              "#fdca26"
             ],
             [
              1,
              "#f0f921"
             ]
            ],
            "type": "heatmapgl"
           }
          ],
          "histogram": [
           {
            "marker": {
             "pattern": {
              "fillmode": "overlay",
              "size": 10,
              "solidity": 0.2
             }
            },
            "type": "histogram"
           }
          ],
          "histogram2d": [
           {
            "colorbar": {
             "outlinewidth": 0,
             "ticks": ""
            },
            "colorscale": [
             [
              0,
              "#0d0887"
             ],
             [
              0.1111111111111111,
              "#46039f"
             ],
             [
              0.2222222222222222,
              "#7201a8"
             ],
             [
              0.3333333333333333,
              "#9c179e"
             ],
             [
              0.4444444444444444,
              "#bd3786"
             ],
             [
              0.5555555555555556,
              "#d8576b"
             ],
             [
              0.6666666666666666,
              "#ed7953"
             ],
             [
              0.7777777777777778,
              "#fb9f3a"
             ],
             [
              0.8888888888888888,
              "#fdca26"
             ],
             [
              1,
              "#f0f921"
             ]
            ],
            "type": "histogram2d"
           }
          ],
          "histogram2dcontour": [
           {
            "colorbar": {
             "outlinewidth": 0,
             "ticks": ""
            },
            "colorscale": [
             [
              0,
              "#0d0887"
             ],
             [
              0.1111111111111111,
              "#46039f"
             ],
             [
              0.2222222222222222,
              "#7201a8"
             ],
             [
              0.3333333333333333,
              "#9c179e"
             ],
             [
              0.4444444444444444,
              "#bd3786"
             ],
             [
              0.5555555555555556,
              "#d8576b"
             ],
             [
              0.6666666666666666,
              "#ed7953"
             ],
             [
              0.7777777777777778,
              "#fb9f3a"
             ],
             [
              0.8888888888888888,
              "#fdca26"
             ],
             [
              1,
              "#f0f921"
             ]
            ],
            "type": "histogram2dcontour"
           }
          ],
          "mesh3d": [
           {
            "colorbar": {
             "outlinewidth": 0,
             "ticks": ""
            },
            "type": "mesh3d"
           }
          ],
          "parcoords": [
           {
            "line": {
             "colorbar": {
              "outlinewidth": 0,
              "ticks": ""
             }
            },
            "type": "parcoords"
           }
          ],
          "pie": [
           {
            "automargin": true,
            "type": "pie"
           }
          ],
          "scatter": [
           {
            "fillpattern": {
             "fillmode": "overlay",
             "size": 10,
             "solidity": 0.2
            },
            "type": "scatter"
           }
          ],
          "scatter3d": [
           {
            "line": {
             "colorbar": {
              "outlinewidth": 0,
              "ticks": ""
             }
            },
            "marker": {
             "colorbar": {
              "outlinewidth": 0,
              "ticks": ""
             }
            },
            "type": "scatter3d"
           }
          ],
          "scattercarpet": [
           {
            "marker": {
             "colorbar": {
              "outlinewidth": 0,
              "ticks": ""
             }
            },
            "type": "scattercarpet"
           }
          ],
          "scattergeo": [
           {
            "marker": {
             "colorbar": {
              "outlinewidth": 0,
              "ticks": ""
             }
            },
            "type": "scattergeo"
           }
          ],
          "scattergl": [
           {
            "marker": {
             "colorbar": {
              "outlinewidth": 0,
              "ticks": ""
             }
            },
            "type": "scattergl"
           }
          ],
          "scattermapbox": [
           {
            "marker": {
             "colorbar": {
              "outlinewidth": 0,
              "ticks": ""
             }
            },
            "type": "scattermapbox"
           }
          ],
          "scatterpolar": [
           {
            "marker": {
             "colorbar": {
              "outlinewidth": 0,
              "ticks": ""
             }
            },
            "type": "scatterpolar"
           }
          ],
          "scatterpolargl": [
           {
            "marker": {
             "colorbar": {
              "outlinewidth": 0,
              "ticks": ""
             }
            },
            "type": "scatterpolargl"
           }
          ],
          "scatterternary": [
           {
            "marker": {
             "colorbar": {
              "outlinewidth": 0,
              "ticks": ""
             }
            },
            "type": "scatterternary"
           }
          ],
          "surface": [
           {
            "colorbar": {
             "outlinewidth": 0,
             "ticks": ""
            },
            "colorscale": [
             [
              0,
              "#0d0887"
             ],
             [
              0.1111111111111111,
              "#46039f"
             ],
             [
              0.2222222222222222,
              "#7201a8"
             ],
             [
              0.3333333333333333,
              "#9c179e"
             ],
             [
              0.4444444444444444,
              "#bd3786"
             ],
             [
              0.5555555555555556,
              "#d8576b"
             ],
             [
              0.6666666666666666,
              "#ed7953"
             ],
             [
              0.7777777777777778,
              "#fb9f3a"
             ],
             [
              0.8888888888888888,
              "#fdca26"
             ],
             [
              1,
              "#f0f921"
             ]
            ],
            "type": "surface"
           }
          ],
          "table": [
           {
            "cells": {
             "fill": {
              "color": "#EBF0F8"
             },
             "line": {
              "color": "white"
             }
            },
            "header": {
             "fill": {
              "color": "#C8D4E3"
             },
             "line": {
              "color": "white"
             }
            },
            "type": "table"
           }
          ]
         },
         "layout": {
          "annotationdefaults": {
           "arrowcolor": "#2a3f5f",
           "arrowhead": 0,
           "arrowwidth": 1
          },
          "autotypenumbers": "strict",
          "coloraxis": {
           "colorbar": {
            "outlinewidth": 0,
            "ticks": ""
           }
          },
          "colorscale": {
           "diverging": [
            [
             0,
             "#8e0152"
            ],
            [
             0.1,
             "#c51b7d"
            ],
            [
             0.2,
             "#de77ae"
            ],
            [
             0.3,
             "#f1b6da"
            ],
            [
             0.4,
             "#fde0ef"
            ],
            [
             0.5,
             "#f7f7f7"
            ],
            [
             0.6,
             "#e6f5d0"
            ],
            [
             0.7,
             "#b8e186"
            ],
            [
             0.8,
             "#7fbc41"
            ],
            [
             0.9,
             "#4d9221"
            ],
            [
             1,
             "#276419"
            ]
           ],
           "sequential": [
            [
             0,
             "#0d0887"
            ],
            [
             0.1111111111111111,
             "#46039f"
            ],
            [
             0.2222222222222222,
             "#7201a8"
            ],
            [
             0.3333333333333333,
             "#9c179e"
            ],
            [
             0.4444444444444444,
             "#bd3786"
            ],
            [
             0.5555555555555556,
             "#d8576b"
            ],
            [
             0.6666666666666666,
             "#ed7953"
            ],
            [
             0.7777777777777778,
             "#fb9f3a"
            ],
            [
             0.8888888888888888,
             "#fdca26"
            ],
            [
             1,
             "#f0f921"
            ]
           ],
           "sequentialminus": [
            [
             0,
             "#0d0887"
            ],
            [
             0.1111111111111111,
             "#46039f"
            ],
            [
             0.2222222222222222,
             "#7201a8"
            ],
            [
             0.3333333333333333,
             "#9c179e"
            ],
            [
             0.4444444444444444,
             "#bd3786"
            ],
            [
             0.5555555555555556,
             "#d8576b"
            ],
            [
             0.6666666666666666,
             "#ed7953"
            ],
            [
             0.7777777777777778,
             "#fb9f3a"
            ],
            [
             0.8888888888888888,
             "#fdca26"
            ],
            [
             1,
             "#f0f921"
            ]
           ]
          },
          "colorway": [
           "#636efa",
           "#EF553B",
           "#00cc96",
           "#ab63fa",
           "#FFA15A",
           "#19d3f3",
           "#FF6692",
           "#B6E880",
           "#FF97FF",
           "#FECB52"
          ],
          "font": {
           "color": "#2a3f5f"
          },
          "geo": {
           "bgcolor": "white",
           "lakecolor": "white",
           "landcolor": "#E5ECF6",
           "showlakes": true,
           "showland": true,
           "subunitcolor": "white"
          },
          "hoverlabel": {
           "align": "left"
          },
          "hovermode": "closest",
          "mapbox": {
           "style": "light"
          },
          "paper_bgcolor": "white",
          "plot_bgcolor": "#E5ECF6",
          "polar": {
           "angularaxis": {
            "gridcolor": "white",
            "linecolor": "white",
            "ticks": ""
           },
           "bgcolor": "#E5ECF6",
           "radialaxis": {
            "gridcolor": "white",
            "linecolor": "white",
            "ticks": ""
           }
          },
          "scene": {
           "xaxis": {
            "backgroundcolor": "#E5ECF6",
            "gridcolor": "white",
            "gridwidth": 2,
            "linecolor": "white",
            "showbackground": true,
            "ticks": "",
            "zerolinecolor": "white"
           },
           "yaxis": {
            "backgroundcolor": "#E5ECF6",
            "gridcolor": "white",
            "gridwidth": 2,
            "linecolor": "white",
            "showbackground": true,
            "ticks": "",
            "zerolinecolor": "white"
           },
           "zaxis": {
            "backgroundcolor": "#E5ECF6",
            "gridcolor": "white",
            "gridwidth": 2,
            "linecolor": "white",
            "showbackground": true,
            "ticks": "",
            "zerolinecolor": "white"
           }
          },
          "shapedefaults": {
           "line": {
            "color": "#2a3f5f"
           }
          },
          "ternary": {
           "aaxis": {
            "gridcolor": "white",
            "linecolor": "white",
            "ticks": ""
           },
           "baxis": {
            "gridcolor": "white",
            "linecolor": "white",
            "ticks": ""
           },
           "bgcolor": "#E5ECF6",
           "caxis": {
            "gridcolor": "white",
            "linecolor": "white",
            "ticks": ""
           }
          },
          "title": {
           "x": 0.05
          },
          "xaxis": {
           "automargin": true,
           "gridcolor": "white",
           "linecolor": "white",
           "ticks": "",
           "title": {
            "standoff": 15
           },
           "zerolinecolor": "white",
           "zerolinewidth": 2
          },
          "yaxis": {
           "automargin": true,
           "gridcolor": "white",
           "linecolor": "white",
           "ticks": "",
           "title": {
            "standoff": 15
           },
           "zerolinecolor": "white",
           "zerolinewidth": 2
          }
         }
        },
        "xaxis": {
         "anchor": "y",
         "domain": [
          0,
          1
         ],
         "matches": "x2",
         "showticklabels": false
        },
        "xaxis2": {
         "anchor": "y2",
         "domain": [
          0,
          1
         ],
         "title": {
          "text": "Time slots"
         }
        },
        "yaxis": {
         "anchor": "x",
         "domain": [
          0.525,
          1
         ],
         "title": {
          "text": "Progress"
         }
        },
        "yaxis2": {
         "anchor": "x2",
         "domain": [
          0,
          0.475
         ],
         "title": {
          "text": "Carbon intensity in kgCO2/kWh"
         }
        }
       }
      }
     },
     "metadata": {},
     "output_type": "display_data"
    }
   ],
   "source": [
    "\n",
    "from typing import List\n",
    "import plotly.io as pio\n",
    "import pulp\n",
    "\n",
    "color_map = {\n",
    "    \"Work\": \"red\",\n",
    "    \"Starting\": \"green\",\n",
    "    \"Startup finished\": \"lime\",\n",
    "    \"Idle\": \"black\"\n",
    "}\n",
    "\n",
    "shared_height = 250\n",
    "shared_width = 1020\n",
    "\n",
    "def add_common_styling_to_fig(fig):\n",
    "    fig.update_layout({\n",
    "        'margin': dict(l=10, r=10, t=10, b=10)\n",
    "    })\n",
    "\n",
    "\n",
    "def find_upper_lower_index_for_phases(bool_list: List[bool]):\n",
    "    groups = []\n",
    "    start_index = None\n",
    "\n",
    "    for i, value in enumerate(bool_list):\n",
    "        if value: \n",
    "            if start_index is None:\n",
    "                start_index = i\n",
    "        else:\n",
    "            if start_index is not None:\n",
    "                groups.append((start_index, i - 1)) \n",
    "                start_index = None\n",
    "\n",
    "    if start_index is not None:\n",
    "        groups.append((start_index, len(bool_list) - 1))\n",
    "\n",
    "    # Output the result\n",
    "    return groups\n",
    "\n",
    "def make_carbon_trace_with_work_or_startup(targets: List[tuple]):\n",
    "    # add the work or startup information to the carbon_trace\n",
    "\n",
    "    graph_times = [i for i in range (shared_deadline)]\n",
    "    graph_carbon_costs = carbon_trace.df[\"carbon_intensity_avg\"].head(shared_deadline)\n",
    "    category = ['Idle'] * shared_deadline\n",
    "\n",
    "    for variable, name in targets:\n",
    "        for t in range(len(variable)):\n",
    "            if pulp.value(variable[t]):\n",
    "                category[t] = name\n",
    "\n",
    "    fig_carbon = go.Figure()\n",
    "\n",
    "    fig_carbon.add_trace(go.Scatter(x=graph_times, y=graph_carbon_costs, mode='lines', showlegend=False, line=dict(color='black', width=2)))\n",
    "\n",
    "    marker_fig = px.scatter(x=graph_times, y=graph_carbon_costs, color=category, color_discrete_map={\n",
    "                \"Work\": \"red\",\n",
    "                \"Starting\": \"green\",\n",
    "                \"Startup finished\": \"lime\",\n",
    "                \"Idle\": \"black\"}\n",
    "    )\n",
    "\n",
    "    for trace in marker_fig.data:\n",
    "        fig_carbon.add_trace(trace)\n",
    "\n",
    "\n",
    "    fig_carbon.update_layout({ \n",
    "        'yaxis_title': 'Carbon intensity in kgCO2/kWh', \n",
    "        'xaxis_title': 'Time slots'\n",
    "    })\n",
    "    \n",
    "    return fig_carbon\n",
    "\n",
    "\n",
    "def make_trace_from_variables(targets: List[tuple]):\n",
    "    fig = go.Figure()\n",
    "\n",
    "    for variable, name in targets:\n",
    "        times = [t for t in range(len(variable))]\n",
    "        values = [pulp.value(variable[t]) if pulp.value(variable[t]) is not None else None for t in range(len(variable))]\n",
    "\n",
    "        to_remove = [i for i, value in enumerate(values) if value == 0.0]\n",
    "\n",
    "        filtered_times = [value for index, value in enumerate(times) if index not in to_remove]\n",
    "        filtered_values = [value for index, value in enumerate(values) if index not in to_remove]\n",
    "        # the things you do for a cool plot\n",
    "\n",
    "        fig.add_trace(go.Scatter(x=filtered_times, y=filtered_values, showlegend=False, mode='markers',\n",
    "        marker=dict(\n",
    "            color=color_map[name],\n",
    "        )))\n",
    "\n",
    "    return fig\n",
    "\n",
    "common_styling = {\n",
    "    'xaxis_title': 'Time slots'\n",
    "}\n",
    "\n",
    "def first_plot_work_only():\n",
    "    \"\"\"first plot should just show the timeslot were work is being done\n",
    "    \"\"\"\n",
    "\n",
    "    carbon_plot = make_carbon_trace_with_work_or_startup([(result_1[\"work\"], 'Work')])\n",
    "\n",
    "    carbon_plot.update_layout(height=shared_height, width=shared_width)\n",
    "\n",
    "    add_common_styling_to_fig(carbon_plot)\n",
    "\n",
    "    carbon_plot.update_layout(legend ={\n",
    "        \"yanchor\":\"top\",\n",
    "        \"y\":0.97,\n",
    "        \"xanchor\":\"left\",\n",
    "        \"x\":0.01\n",
    "    })\n",
    "\n",
    "    carbon_plot.show()\n",
    "\n",
    "    pio.write_image(carbon_plot, file=\"lp_work.pdf\", format='pdf')\n",
    "\n",
    "    return carbon_plot\n",
    "\n",
    "def second_plot_overhead_via_startup():\n",
    "    \"\"\"second plot includes overhead for every start\n",
    "    \"\"\"\n",
    "\n",
    "    carbon_plot = make_carbon_trace_with_work_or_startup([(result_3[\"work\"], 'Work'), (result_3[\"starting\"], 'Starting'), (result_3[\"startup_finished\"], 'Startup finished')])\n",
    "    add_common_styling_to_fig(carbon_plot)\n",
    "    carbon_plot.update_layout(height=shared_height, width=shared_width)\n",
    "    carbon_plot.update_layout(legend ={\n",
    "        \"yanchor\":\"top\",\n",
    "        \"y\":0.97,\n",
    "        \"xanchor\":\"left\",\n",
    "        \"x\":0.65\n",
    "    })\n",
    "\n",
    "    carbon_plot.show()\n",
    "\n",
    "    pio.write_image(carbon_plot, file=\"lp_overhead.pdf\", format='pdf')\n",
    "\n",
    "\n",
    "\n",
    "def third_plot_adding_progress_counters():\n",
    "    \"\"\"second plot includes overhead for every start\n",
    "    \"\"\"\n",
    "    prototype_fig = make_subplots(rows=2, cols=1, shared_xaxes=True, vertical_spacing=0.05)\n",
    "    carbon_plot = make_carbon_trace_with_work_or_startup([(result_3[\"work\"], 'Work'), (result_3[\"starting\"], 'Starting'), (result_3[\"startup_finished\"], 'Startup finished')])\n",
    "    carbon_plot.update_layout(height=shared_height, width=shared_width)\n",
    "    integers_plot = make_trace_from_variables([(result_3[\"startup_time_progressed\"], 'Starting'), (result_3[\"work_time_progressed\"], 'Work')])\n",
    "    integers_plot.update_layout(height=shared_height, width=shared_width)\n",
    "\n",
    "\n",
    "    prototype_fig.add_traces(integers_plot.data, rows=1, cols=1)\n",
    "    prototype_fig.add_traces(carbon_plot.data, rows=2, cols=1)\n",
    "\n",
    "    prototype_fig.update_layout({'yaxis1_title':'Progress', 'yaxis2_title': 'Carbon intensity in kgCO2/kWh', 'xaxis2_title':'Time slots'})\n",
    "    add_common_styling_to_fig(prototype_fig)\n",
    "\n",
    "    prototype_fig.update_layout(legend ={\n",
    "        \"yanchor\":\"top\",\n",
    "        \"y\":0.97,\n",
    "        \"xanchor\":\"left\",\n",
    "        \"x\":0.01\n",
    "    })\n",
    "\n",
    "    prototype_fig.update_layout(height=shared_height*2, width=shared_width)\n",
    "\n",
    "    prototype_fig.show()\n",
    "\n",
    "    pio.write_image(prototype_fig, file=\"lp_progress.pdf\", format='pdf')\n",
    "\n",
    "def get_color(event_str: str) -> str:\n",
    "    if ('Start' in event_str):\n",
    "        return 'rgba(255, 0, 0, 0.2)' \n",
    "    if ('Download' in event_str):\n",
    "        return 'rgba(0, 255, 0, 0.2)'\n",
    "    if ('High' in event_str):\n",
    "        return 'rgba(236, 39, 245, 0.2)'\n",
    "    if ('Low' in event_str or \"eval\" in event_str): # regrets\n",
    "        return 'rgba(245, 172, 39, 0.2)'\n",
    "    return 'rgba(0, 0, 0, 1)'\n",
    "\n",
    "def get_label(event_str: str) -> str:\n",
    "    if ('Start' in event_str):\n",
    "        return 'Start Python' \n",
    "    if ('Download' in event_str):\n",
    "        return 'Download data'\n",
    "    if ('Start train' in event_str):\n",
    "        return 'prepare dataset'\n",
    "    if ('High' in event_str):\n",
    "        return 'High power'\n",
    "    if ('Low' in event_str):\n",
    "        return 'Low power'\n",
    "    return event_str\n",
    "\n",
    "def plot_with_states():\n",
    "    prototype_fig = make_subplots(rows=2, cols=1, shared_xaxes=True, vertical_spacing=0.05)\n",
    "    carbon_plot = make_carbon_trace_with_work_or_startup([(result_4[\"work\"], 'Work'), (result_4[\"starting\"], 'Starting'), (result_4[\"startup_finished\"], 'Startup finished')])\n",
    "    \n",
    "    integers_plot = make_trace_from_variables([(result_4[\"startup_time_progressed\"], 'Starting'), (result_4[\"work_time_progressed\"], 'Work')])\n",
    "\n",
    "    phases_variables_with_name = [\n",
    "        *[(value['variable'], key) for (key, value) in result_4[\"lin_function_dicts\"]['startup'].items()],\n",
    "        *[(value['variable'], key) for (key, value) in result_4[\"lin_function_dicts\"]['work'].items()]\n",
    "    ]\n",
    "\n",
    "    prototype_fig.add_traces(integers_plot.data, rows=1, cols=1)\n",
    "    prototype_fig.add_traces(carbon_plot.data, rows=2, cols=1)\n",
    "\n",
    "    for variable, name in phases_variables_with_name:\n",
    "        bools = [True if pulp.value(variable[t]) > 0 else False for t in range(len(variable))]\n",
    "        groups = find_upper_lower_index_for_phases(bools)\n",
    "        for start, end in groups:\n",
    "            print(f\"{start}, {end}, {name}\")\n",
    "            prototype_fig.add_shape(type='rect',\n",
    "                name=name, layer=\"below\",\n",
    "                label=dict(text=get_label(name), textangle=-90),\n",
    "                x0=start, y0=0, x1=end, y1=100,\n",
    "                line=dict(color='rgba(0, 0, 0, 0)'),\n",
    "                row=1, col=1, fillcolor=get_color(name)\n",
    "            )\n",
    "\n",
    "    prototype_fig.update_layout({'yaxis1_title':'Progress', 'yaxis2_title': 'Carbon intensity in kgCO2/kWh', 'xaxis2_title': 'Time slots'})\n",
    "    \n",
    "    add_common_styling_to_fig(prototype_fig)\n",
    "\n",
    "    prototype_fig.update_layout(legend ={\n",
    "        \"yanchor\":\"top\",\n",
    "        \"y\":0.97,\n",
    "        \"xanchor\":\"left\",\n",
    "        \"x\":0.01\n",
    "    })\n",
    "\n",
    "    prototype_fig.show()\n",
    "\n",
    "    pio.write_image(prototype_fig, file=\"lp_states.pdf\", format='pdf')\n",
    "\n",
    "\n",
    "first_plot_work_only()\n",
    "second_plot_overhead_via_startup()\n",
    "third_plot_adding_progress_counters()\n",
    "plot_with_states()\n"
   ]
  }
 ],
 "metadata": {
  "kernelspec": {
   "display_name": ".venv",
   "language": "python",
   "name": "python3"
  },
  "language_info": {
   "codemirror_mode": {
    "name": "ipython",
    "version": 3
   },
   "file_extension": ".py",
   "mimetype": "text/x-python",
   "name": "python",
   "nbconvert_exporter": "python",
   "pygments_lexer": "ipython3",
   "version": "3.12.0"
  }
 },
 "nbformat": 4,
 "nbformat_minor": 2
}
